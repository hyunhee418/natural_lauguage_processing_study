{
  "nbformat": 4,
  "nbformat_minor": 0,
  "metadata": {
    "colab": {
      "name": "day01.ipynb",
      "provenance": [],
      "collapsed_sections": [],
      "include_colab_link": true
    },
    "kernelspec": {
      "name": "python3",
      "display_name": "Python 3"
    }
  },
  "cells": [
    {
      "cell_type": "markdown",
      "metadata": {
        "id": "view-in-github",
        "colab_type": "text"
      },
      "source": [
        "<a href=\"https://colab.research.google.com/github/hyunhee418/natural_lauguage_processing_study/blob/master/day01.ipynb\" target=\"_parent\"><img src=\"https://colab.research.google.com/assets/colab-badge.svg\" alt=\"Open In Colab\"/></a>"
      ]
    },
    {
      "cell_type": "markdown",
      "metadata": {
        "id": "ieuIqmWrATHm",
        "colab_type": "text"
      },
      "source": [
        "# Intro\n"
      ]
    },
    {
      "cell_type": "markdown",
      "metadata": {
        "id": "ksx8w1HyAXk2",
        "colab_type": "text"
      },
      "source": [
        "soynlp 는 konlpy보다 다운이 더 간편 <br>\n",
        "동영상으로도 공개가 되어있어 영상을 참고할 수 있다. <br>\n",
        "명사 추출, 토크나이징에 이용 / 단어 백터를 만들어 단어 유사도 분석 예정 <br>\n",
        "2진 분류로 예측(classfication) -> 100% 예측 가능(스팸메일이냐 아니냐에 주로 사용) / 투표수 자체를 예측(회기) -> 예측률이 낮음"
      ]
    },
    {
      "cell_type": "markdown",
      "metadata": {
        "id": "KiH15IjbAZZG",
        "colab_type": "text"
      },
      "source": [
        " # 국민 청원 데이터 분석하기"
      ]
    },
    {
      "cell_type": "markdown",
      "metadata": {
        "id": "fhMg1zAoAbmu",
        "colab_type": "text"
      },
      "source": [
        "투표 수가 20만 명 이상 되어야 답변 대상 건이 됨<br>\n",
        "따라서, 37만건 중에 청원 답변 건이 된 것은 100건이 채 되지 않아 이상치에 가까움 <br>\n",
        "답변 선정 권은 제외하고 진행할 예정"
      ]
    },
    {
      "cell_type": "markdown",
      "metadata": {
        "id": "i-hXeH1cAen-",
        "colab_type": "text"
      },
      "source": [
        "Pandas : 파이썬에서 쓰는 엑셀 <br>\n",
        "Numpy : 파이썬에서 쓰는 계산기 <br>\n",
        "plotnine : 시각화 도구 (Grammer of Graphics라는 문법을 사용하여 파이썬과 R 에서 모두 사용할 수 있음) <br>"
      ]
    },
    {
      "cell_type": "code",
      "metadata": {
        "id": "T_YE2ESjPe84",
        "colab_type": "code",
        "outputId": "e12182d6-66a1-485b-de2c-ea23173374fe",
        "colab": {
          "base_uri": "https://localhost:8080/",
          "height": 34
        }
      },
      "source": [
        "!git clone https://github.com/hyunhee418/natural_lauguage_processing_study.git"
      ],
      "execution_count": 128,
      "outputs": [
        {
          "output_type": "stream",
          "text": [
            "fatal: destination path 'natural_lauguage_processing_study' already exists and is not an empty directory.\n"
          ],
          "name": "stdout"
        }
      ]
    },
    {
      "cell_type": "code",
      "metadata": {
        "id": "L74_bbrD_sD6",
        "colab_type": "code",
        "colab": {}
      },
      "source": [
        "import pandas as pd\n",
        "import numpy as np"
      ],
      "execution_count": 0,
      "outputs": []
    },
    {
      "cell_type": "code",
      "metadata": {
        "id": "JGdumoIr_wTb",
        "colab_type": "code",
        "outputId": "10365e6f-c7ed-425b-bd28-cf2febdc92f3",
        "colab": {
          "base_uri": "https://localhost:8080/",
          "height": 34
        }
      },
      "source": [
        "from google.colab import drive\n",
        "\n",
        "drive.mount('/content/gdrive')"
      ],
      "execution_count": 130,
      "outputs": [
        {
          "output_type": "stream",
          "text": [
            "Drive already mounted at /content/gdrive; to attempt to forcibly remount, call drive.mount(\"/content/gdrive\", force_remount=True).\n"
          ],
          "name": "stdout"
        }
      ]
    },
    {
      "cell_type": "code",
      "metadata": {
        "id": "6x48R3ia_41g",
        "colab_type": "code",
        "outputId": "3dd1871f-a0d6-4e0c-d334-2193560e5a76",
        "colab": {
          "base_uri": "https://localhost:8080/",
          "height": 70
        }
      },
      "source": [
        "!ls \"/content/gdrive/My Drive/data/01 study\""
      ],
      "execution_count": 131,
      "outputs": [
        {
          "output_type": "stream",
          "text": [
            "'01 국민청원 분석 및 시각화.ipynb'   petition1.csv\n",
            " day01.ipynb\t\t\t     petition.csv\n",
            " natural_lauguage_processing_study\n"
          ],
          "name": "stdout"
        }
      ]
    },
    {
      "cell_type": "code",
      "metadata": {
        "id": "3HGJHt3-AAe3",
        "colab_type": "code",
        "outputId": "d7cf299c-a656-47bc-80fb-279aa0d7b3a4",
        "colab": {
          "base_uri": "https://localhost:8080/",
          "height": 34
        }
      },
      "source": [
        "cd /content/gdrive/My Drive/data/01 study"
      ],
      "execution_count": 132,
      "outputs": [
        {
          "output_type": "stream",
          "text": [
            "/content/gdrive/My Drive/data/01 study\n"
          ],
          "name": "stdout"
        }
      ]
    },
    {
      "cell_type": "code",
      "metadata": {
        "id": "BTZ5zDhkBmw2",
        "colab_type": "code",
        "outputId": "d8a1338d-1723-43d9-c22a-be6d83b276b6",
        "colab": {
          "base_uri": "https://localhost:8080/",
          "height": 106
        }
      },
      "source": [
        "petitions1 = pd.read_csv(\"petition.csv\")\n",
        "petitions1.head(2)"
      ],
      "execution_count": 133,
      "outputs": [
        {
          "output_type": "execute_result",
          "data": {
            "text/html": [
              "<div>\n",
              "<style scoped>\n",
              "    .dataframe tbody tr th:only-of-type {\n",
              "        vertical-align: middle;\n",
              "    }\n",
              "\n",
              "    .dataframe tbody tr th {\n",
              "        vertical-align: top;\n",
              "    }\n",
              "\n",
              "    .dataframe thead th {\n",
              "        text-align: right;\n",
              "    }\n",
              "</style>\n",
              "<table border=\"1\" class=\"dataframe\">\n",
              "  <thead>\n",
              "    <tr style=\"text-align: right;\">\n",
              "      <th></th>\n",
              "      <th>article_id</th>\n",
              "      <th>start</th>\n",
              "      <th>end</th>\n",
              "      <th>answered</th>\n",
              "      <th>votes</th>\n",
              "      <th>category</th>\n",
              "      <th>title</th>\n",
              "      <th>content</th>\n",
              "    </tr>\n",
              "  </thead>\n",
              "  <tbody>\n",
              "    <tr>\n",
              "      <th>0</th>\n",
              "      <td>21</td>\n",
              "      <td>2017-08-19</td>\n",
              "      <td>2017-11-17</td>\n",
              "      <td>0</td>\n",
              "      <td>9</td>\n",
              "      <td>안전/환경</td>\n",
              "      <td>스텔라 데이지호에 대한 제안입니다.</td>\n",
              "      <td>스텔라 데이지호에 대한 제안입니다.\\n3월31일 스텔라 데이지호가 침몰하고 5달째가...</td>\n",
              "    </tr>\n",
              "    <tr>\n",
              "      <th>1</th>\n",
              "      <td>22</td>\n",
              "      <td>2017-08-19</td>\n",
              "      <td>2017-11-17</td>\n",
              "      <td>0</td>\n",
              "      <td>17</td>\n",
              "      <td>기타</td>\n",
              "      <td>비리제보처를 만들어주세요.</td>\n",
              "      <td>현 정부에 국민들이 가장 원하는 것은 부패척결입니다.  우리 사회에 각종 비리들이 ...</td>\n",
              "    </tr>\n",
              "  </tbody>\n",
              "</table>\n",
              "</div>"
            ],
            "text/plain": [
              "   article_id  ...                                            content\n",
              "0          21  ...  스텔라 데이지호에 대한 제안입니다.\\n3월31일 스텔라 데이지호가 침몰하고 5달째가...\n",
              "1          22  ...  현 정부에 국민들이 가장 원하는 것은 부패척결입니다.  우리 사회에 각종 비리들이 ...\n",
              "\n",
              "[2 rows x 8 columns]"
            ]
          },
          "metadata": {
            "tags": []
          },
          "execution_count": 133
        }
      ]
    },
    {
      "cell_type": "code",
      "metadata": {
        "id": "6kkKiZ5KAEsf",
        "colab_type": "code",
        "colab": {}
      },
      "source": [
        "# index column을 0으로 지정해주어서 article_id가 0번째 데이터가 됨.\n",
        "# parse_dates를 통해 start, end를 datetime 데이터 형태로 받는다.\n",
        "petitions = pd.read_csv(\"petition.csv\", index_col=0, parse_dates=['start', 'end'])"
      ],
      "execution_count": 0,
      "outputs": []
    },
    {
      "cell_type": "code",
      "metadata": {
        "id": "R_d7EJX-AI9g",
        "colab_type": "code",
        "outputId": "e9e73dfa-cbdb-4c73-e857-d16ad7a75b92",
        "colab": {
          "base_uri": "https://localhost:8080/",
          "height": 136
        }
      },
      "source": [
        "petitions.head(2)"
      ],
      "execution_count": 135,
      "outputs": [
        {
          "output_type": "execute_result",
          "data": {
            "text/html": [
              "<div>\n",
              "<style scoped>\n",
              "    .dataframe tbody tr th:only-of-type {\n",
              "        vertical-align: middle;\n",
              "    }\n",
              "\n",
              "    .dataframe tbody tr th {\n",
              "        vertical-align: top;\n",
              "    }\n",
              "\n",
              "    .dataframe thead th {\n",
              "        text-align: right;\n",
              "    }\n",
              "</style>\n",
              "<table border=\"1\" class=\"dataframe\">\n",
              "  <thead>\n",
              "    <tr style=\"text-align: right;\">\n",
              "      <th></th>\n",
              "      <th>start</th>\n",
              "      <th>end</th>\n",
              "      <th>answered</th>\n",
              "      <th>votes</th>\n",
              "      <th>category</th>\n",
              "      <th>title</th>\n",
              "      <th>content</th>\n",
              "    </tr>\n",
              "    <tr>\n",
              "      <th>article_id</th>\n",
              "      <th></th>\n",
              "      <th></th>\n",
              "      <th></th>\n",
              "      <th></th>\n",
              "      <th></th>\n",
              "      <th></th>\n",
              "      <th></th>\n",
              "    </tr>\n",
              "  </thead>\n",
              "  <tbody>\n",
              "    <tr>\n",
              "      <th>21</th>\n",
              "      <td>2017-08-19</td>\n",
              "      <td>2017-11-17</td>\n",
              "      <td>0</td>\n",
              "      <td>9</td>\n",
              "      <td>안전/환경</td>\n",
              "      <td>스텔라 데이지호에 대한 제안입니다.</td>\n",
              "      <td>스텔라 데이지호에 대한 제안입니다.\\n3월31일 스텔라 데이지호가 침몰하고 5달째가...</td>\n",
              "    </tr>\n",
              "    <tr>\n",
              "      <th>22</th>\n",
              "      <td>2017-08-19</td>\n",
              "      <td>2017-11-17</td>\n",
              "      <td>0</td>\n",
              "      <td>17</td>\n",
              "      <td>기타</td>\n",
              "      <td>비리제보처를 만들어주세요.</td>\n",
              "      <td>현 정부에 국민들이 가장 원하는 것은 부패척결입니다.  우리 사회에 각종 비리들이 ...</td>\n",
              "    </tr>\n",
              "  </tbody>\n",
              "</table>\n",
              "</div>"
            ],
            "text/plain": [
              "                start  ...                                            content\n",
              "article_id             ...                                                   \n",
              "21         2017-08-19  ...  스텔라 데이지호에 대한 제안입니다.\\n3월31일 스텔라 데이지호가 침몰하고 5달째가...\n",
              "22         2017-08-19  ...  현 정부에 국민들이 가장 원하는 것은 부패척결입니다.  우리 사회에 각종 비리들이 ...\n",
              "\n",
              "[2 rows x 7 columns]"
            ]
          },
          "metadata": {
            "tags": []
          },
          "execution_count": 135
        }
      ]
    },
    {
      "cell_type": "code",
      "metadata": {
        "id": "0lO9_TJZBSxt",
        "colab_type": "code",
        "outputId": "653c3231-af34-42d6-d1f2-80f4ed291e21",
        "colab": {
          "base_uri": "https://localhost:8080/",
          "height": 34
        }
      },
      "source": [
        "petitions.shape"
      ],
      "execution_count": 136,
      "outputs": [
        {
          "output_type": "execute_result",
          "data": {
            "text/plain": [
              "(377756, 7)"
            ]
          },
          "metadata": {
            "tags": []
          },
          "execution_count": 136
        }
      ]
    },
    {
      "cell_type": "code",
      "metadata": {
        "id": "a5QxKujjAqgq",
        "colab_type": "code",
        "colab": {}
      },
      "source": [
        "from pandas.api.types import CategoricalDtype\n",
        "import numpy as np\n",
        "from plotnine import *"
      ],
      "execution_count": 0,
      "outputs": []
    },
    {
      "cell_type": "code",
      "metadata": {
        "id": "hdYSwaPVAz9f",
        "colab_type": "code",
        "colab": {
          "base_uri": "https://localhost:8080/",
          "height": 34
        },
        "outputId": "961d9aee-9819-45b7-a0c5-30ee9b3b019d"
      },
      "source": [
        "petitions.columns"
      ],
      "execution_count": 138,
      "outputs": [
        {
          "output_type": "execute_result",
          "data": {
            "text/plain": [
              "Index(['start', 'end', 'answered', 'votes', 'category', 'title', 'content'], dtype='object')"
            ]
          },
          "metadata": {
            "tags": []
          },
          "execution_count": 138
        }
      ]
    },
    {
      "cell_type": "code",
      "metadata": {
        "id": "D3Xm9Ar8QRwF",
        "colab_type": "code",
        "colab": {
          "base_uri": "https://localhost:8080/",
          "height": 136
        },
        "outputId": "4217657f-5794-456c-a61b-3c3fbd73eff0"
      },
      "source": [
        "petitions.head(2)"
      ],
      "execution_count": 139,
      "outputs": [
        {
          "output_type": "execute_result",
          "data": {
            "text/html": [
              "<div>\n",
              "<style scoped>\n",
              "    .dataframe tbody tr th:only-of-type {\n",
              "        vertical-align: middle;\n",
              "    }\n",
              "\n",
              "    .dataframe tbody tr th {\n",
              "        vertical-align: top;\n",
              "    }\n",
              "\n",
              "    .dataframe thead th {\n",
              "        text-align: right;\n",
              "    }\n",
              "</style>\n",
              "<table border=\"1\" class=\"dataframe\">\n",
              "  <thead>\n",
              "    <tr style=\"text-align: right;\">\n",
              "      <th></th>\n",
              "      <th>start</th>\n",
              "      <th>end</th>\n",
              "      <th>answered</th>\n",
              "      <th>votes</th>\n",
              "      <th>category</th>\n",
              "      <th>title</th>\n",
              "      <th>content</th>\n",
              "    </tr>\n",
              "    <tr>\n",
              "      <th>article_id</th>\n",
              "      <th></th>\n",
              "      <th></th>\n",
              "      <th></th>\n",
              "      <th></th>\n",
              "      <th></th>\n",
              "      <th></th>\n",
              "      <th></th>\n",
              "    </tr>\n",
              "  </thead>\n",
              "  <tbody>\n",
              "    <tr>\n",
              "      <th>21</th>\n",
              "      <td>2017-08-19</td>\n",
              "      <td>2017-11-17</td>\n",
              "      <td>0</td>\n",
              "      <td>9</td>\n",
              "      <td>안전/환경</td>\n",
              "      <td>스텔라 데이지호에 대한 제안입니다.</td>\n",
              "      <td>스텔라 데이지호에 대한 제안입니다.\\n3월31일 스텔라 데이지호가 침몰하고 5달째가...</td>\n",
              "    </tr>\n",
              "    <tr>\n",
              "      <th>22</th>\n",
              "      <td>2017-08-19</td>\n",
              "      <td>2017-11-17</td>\n",
              "      <td>0</td>\n",
              "      <td>17</td>\n",
              "      <td>기타</td>\n",
              "      <td>비리제보처를 만들어주세요.</td>\n",
              "      <td>현 정부에 국민들이 가장 원하는 것은 부패척결입니다.  우리 사회에 각종 비리들이 ...</td>\n",
              "    </tr>\n",
              "  </tbody>\n",
              "</table>\n",
              "</div>"
            ],
            "text/plain": [
              "                start  ...                                            content\n",
              "article_id             ...                                                   \n",
              "21         2017-08-19  ...  스텔라 데이지호에 대한 제안입니다.\\n3월31일 스텔라 데이지호가 침몰하고 5달째가...\n",
              "22         2017-08-19  ...  현 정부에 국민들이 가장 원하는 것은 부패척결입니다.  우리 사회에 각종 비리들이 ...\n",
              "\n",
              "[2 rows x 7 columns]"
            ]
          },
          "metadata": {
            "tags": []
          },
          "execution_count": 139
        }
      ]
    },
    {
      "cell_type": "code",
      "metadata": {
        "id": "b8gr25DGQUvN",
        "colab_type": "code",
        "colab": {
          "base_uri": "https://localhost:8080/",
          "height": 170
        },
        "outputId": "c16304bf-e09c-422e-b642-55b58203db8e"
      },
      "source": [
        "petitions.tail(2)\n",
        "# 최근 것"
      ],
      "execution_count": 140,
      "outputs": [
        {
          "output_type": "execute_result",
          "data": {
            "text/html": [
              "<div>\n",
              "<style scoped>\n",
              "    .dataframe tbody tr th:only-of-type {\n",
              "        vertical-align: middle;\n",
              "    }\n",
              "\n",
              "    .dataframe tbody tr th {\n",
              "        vertical-align: top;\n",
              "    }\n",
              "\n",
              "    .dataframe thead th {\n",
              "        text-align: right;\n",
              "    }\n",
              "</style>\n",
              "<table border=\"1\" class=\"dataframe\">\n",
              "  <thead>\n",
              "    <tr style=\"text-align: right;\">\n",
              "      <th></th>\n",
              "      <th>start</th>\n",
              "      <th>end</th>\n",
              "      <th>answered</th>\n",
              "      <th>votes</th>\n",
              "      <th>category</th>\n",
              "      <th>title</th>\n",
              "      <th>content</th>\n",
              "    </tr>\n",
              "    <tr>\n",
              "      <th>article_id</th>\n",
              "      <th></th>\n",
              "      <th></th>\n",
              "      <th></th>\n",
              "      <th></th>\n",
              "      <th></th>\n",
              "      <th></th>\n",
              "      <th></th>\n",
              "    </tr>\n",
              "  </thead>\n",
              "  <tbody>\n",
              "    <tr>\n",
              "      <th>492042</th>\n",
              "      <td>2019-01-09</td>\n",
              "      <td>2019-02-08</td>\n",
              "      <td>0</td>\n",
              "      <td>4</td>\n",
              "      <td>정치개혁</td>\n",
              "      <td>임종석실장님 수고많으셨습니다.</td>\n",
              "      <td>범죄정권이후 많은 어려움을 갖고 시작한 국민의정부.\\n저급한 자칭 보수단체와 한국당...</td>\n",
              "    </tr>\n",
              "    <tr>\n",
              "      <th>492043</th>\n",
              "      <td>2019-01-09</td>\n",
              "      <td>2019-02-08</td>\n",
              "      <td>0</td>\n",
              "      <td>1</td>\n",
              "      <td>행정</td>\n",
              "      <td>예천군과 환경부를 규탄합니다. 어불성설인 가축사육 관련 법규를 개정해주세요!</td>\n",
              "      <td>해당 사건이 발생한 곳은 요즘은 매체에서 매일 나오는 곳으로 '군의원의 외유성 해외...</td>\n",
              "    </tr>\n",
              "  </tbody>\n",
              "</table>\n",
              "</div>"
            ],
            "text/plain": [
              "                start  ...                                            content\n",
              "article_id             ...                                                   \n",
              "492042     2019-01-09  ...  범죄정권이후 많은 어려움을 갖고 시작한 국민의정부.\\n저급한 자칭 보수단체와 한국당...\n",
              "492043     2019-01-09  ...  해당 사건이 발생한 곳은 요즘은 매체에서 매일 나오는 곳으로 '군의원의 외유성 해외...\n",
              "\n",
              "[2 rows x 7 columns]"
            ]
          },
          "metadata": {
            "tags": []
          },
          "execution_count": 140
        }
      ]
    },
    {
      "cell_type": "code",
      "metadata": {
        "id": "ccPOiUQSQkeh",
        "colab_type": "code",
        "colab": {
          "base_uri": "https://localhost:8080/",
          "height": 228
        },
        "outputId": "9de35f1f-2845-4387-d866-ac51aa884567"
      },
      "source": [
        "petitions.info()\n",
        "# 대략적 요약하여 알려줌 어떤 columns가 있고 어떤 데이터 타입인지"
      ],
      "execution_count": 141,
      "outputs": [
        {
          "output_type": "stream",
          "text": [
            "<class 'pandas.core.frame.DataFrame'>\n",
            "Int64Index: 377756 entries, 21 to 492043\n",
            "Data columns (total 7 columns):\n",
            "start       377756 non-null datetime64[ns]\n",
            "end         377756 non-null datetime64[ns]\n",
            "answered    377756 non-null int64\n",
            "votes       377756 non-null int64\n",
            "category    377756 non-null object\n",
            "title       377756 non-null object\n",
            "content     377755 non-null object\n",
            "dtypes: datetime64[ns](2), int64(2), object(3)\n",
            "memory usage: 23.1+ MB\n"
          ],
          "name": "stdout"
        }
      ]
    },
    {
      "cell_type": "code",
      "metadata": {
        "id": "sujHWTmeQsGS",
        "colab_type": "code",
        "colab": {
          "base_uri": "https://localhost:8080/",
          "height": 284
        },
        "outputId": "065cda6b-0359-4120-f4c2-50981bbaa171"
      },
      "source": [
        "petitions.describe()\n",
        "# 수치형으로 되어 있는 데이터를 요약해서 보여줌\n",
        "# count, mean, std, min, max, 4분위 수 값을 볼 수 있다."
      ],
      "execution_count": 142,
      "outputs": [
        {
          "output_type": "execute_result",
          "data": {
            "text/html": [
              "<div>\n",
              "<style scoped>\n",
              "    .dataframe tbody tr th:only-of-type {\n",
              "        vertical-align: middle;\n",
              "    }\n",
              "\n",
              "    .dataframe tbody tr th {\n",
              "        vertical-align: top;\n",
              "    }\n",
              "\n",
              "    .dataframe thead th {\n",
              "        text-align: right;\n",
              "    }\n",
              "</style>\n",
              "<table border=\"1\" class=\"dataframe\">\n",
              "  <thead>\n",
              "    <tr style=\"text-align: right;\">\n",
              "      <th></th>\n",
              "      <th>answered</th>\n",
              "      <th>votes</th>\n",
              "    </tr>\n",
              "  </thead>\n",
              "  <tbody>\n",
              "    <tr>\n",
              "      <th>count</th>\n",
              "      <td>377756.000000</td>\n",
              "      <td>3.777560e+05</td>\n",
              "    </tr>\n",
              "    <tr>\n",
              "      <th>mean</th>\n",
              "      <td>0.000077</td>\n",
              "      <td>1.514069e+02</td>\n",
              "    </tr>\n",
              "    <tr>\n",
              "      <th>std</th>\n",
              "      <td>0.008761</td>\n",
              "      <td>4.842551e+03</td>\n",
              "    </tr>\n",
              "    <tr>\n",
              "      <th>min</th>\n",
              "      <td>0.000000</td>\n",
              "      <td>0.000000e+00</td>\n",
              "    </tr>\n",
              "    <tr>\n",
              "      <th>25%</th>\n",
              "      <td>0.000000</td>\n",
              "      <td>1.000000e+00</td>\n",
              "    </tr>\n",
              "    <tr>\n",
              "      <th>50%</th>\n",
              "      <td>0.000000</td>\n",
              "      <td>5.000000e+00</td>\n",
              "    </tr>\n",
              "    <tr>\n",
              "      <th>75%</th>\n",
              "      <td>0.000000</td>\n",
              "      <td>1.500000e+01</td>\n",
              "    </tr>\n",
              "    <tr>\n",
              "      <th>max</th>\n",
              "      <td>1.000000</td>\n",
              "      <td>1.192049e+06</td>\n",
              "    </tr>\n",
              "  </tbody>\n",
              "</table>\n",
              "</div>"
            ],
            "text/plain": [
              "            answered         votes\n",
              "count  377756.000000  3.777560e+05\n",
              "mean        0.000077  1.514069e+02\n",
              "std         0.008761  4.842551e+03\n",
              "min         0.000000  0.000000e+00\n",
              "25%         0.000000  1.000000e+00\n",
              "50%         0.000000  5.000000e+00\n",
              "75%         0.000000  1.500000e+01\n",
              "max         1.000000  1.192049e+06"
            ]
          },
          "metadata": {
            "tags": []
          },
          "execution_count": 142
        }
      ]
    },
    {
      "cell_type": "code",
      "metadata": {
        "id": "HAHHG3TkR-bV",
        "colab_type": "code",
        "colab": {
          "base_uri": "https://localhost:8080/",
          "height": 34
        },
        "outputId": "f13d8424-083a-48f2-a799-ac7014823288"
      },
      "source": [
        "petitions[\"votes\"].max()\n",
        "# pandas에 numpy가 내장되어있어 어느 정도 원하는 값을 계산할 수 있다."
      ],
      "execution_count": 143,
      "outputs": [
        {
          "output_type": "execute_result",
          "data": {
            "text/plain": [
              "1192049"
            ]
          },
          "metadata": {
            "tags": []
          },
          "execution_count": 143
        }
      ]
    },
    {
      "cell_type": "code",
      "metadata": {
        "id": "wZbGcaG2RX2G",
        "colab_type": "code",
        "colab": {
          "base_uri": "https://localhost:8080/",
          "height": 34
        },
        "outputId": "89e41e3d-9f99-4cf6-c3cc-97fb3e05ce19"
      },
      "source": [
        "petitions[\"votes\"].mean()"
      ],
      "execution_count": 144,
      "outputs": [
        {
          "output_type": "execute_result",
          "data": {
            "text/plain": [
              "151.40693463505542"
            ]
          },
          "metadata": {
            "tags": []
          },
          "execution_count": 144
        }
      ]
    },
    {
      "cell_type": "code",
      "metadata": {
        "id": "UYfGILbiSUJq",
        "colab_type": "code",
        "colab": {
          "base_uri": "https://localhost:8080/",
          "height": 432
        },
        "outputId": "c1dc795f-969c-4491-8ef2-f35930c4affb"
      },
      "source": [
        "petitions.describe(include='all')\n",
        "# 숫자형과 상관없이 모든 데이터타입에 대해 보여주기"
      ],
      "execution_count": 145,
      "outputs": [
        {
          "output_type": "execute_result",
          "data": {
            "text/html": [
              "<div>\n",
              "<style scoped>\n",
              "    .dataframe tbody tr th:only-of-type {\n",
              "        vertical-align: middle;\n",
              "    }\n",
              "\n",
              "    .dataframe tbody tr th {\n",
              "        vertical-align: top;\n",
              "    }\n",
              "\n",
              "    .dataframe thead th {\n",
              "        text-align: right;\n",
              "    }\n",
              "</style>\n",
              "<table border=\"1\" class=\"dataframe\">\n",
              "  <thead>\n",
              "    <tr style=\"text-align: right;\">\n",
              "      <th></th>\n",
              "      <th>start</th>\n",
              "      <th>end</th>\n",
              "      <th>answered</th>\n",
              "      <th>votes</th>\n",
              "      <th>category</th>\n",
              "      <th>title</th>\n",
              "      <th>content</th>\n",
              "    </tr>\n",
              "  </thead>\n",
              "  <tbody>\n",
              "    <tr>\n",
              "      <th>count</th>\n",
              "      <td>377756</td>\n",
              "      <td>377756</td>\n",
              "      <td>377756.000000</td>\n",
              "      <td>3.777560e+05</td>\n",
              "      <td>377756</td>\n",
              "      <td>377756</td>\n",
              "      <td>377755</td>\n",
              "    </tr>\n",
              "    <tr>\n",
              "      <th>unique</th>\n",
              "      <td>509</td>\n",
              "      <td>532</td>\n",
              "      <td>NaN</td>\n",
              "      <td>NaN</td>\n",
              "      <td>17</td>\n",
              "      <td>330206</td>\n",
              "      <td>358060</td>\n",
              "    </tr>\n",
              "    <tr>\n",
              "      <th>top</th>\n",
              "      <td>2017-11-11 00:00:00</td>\n",
              "      <td>2017-12-11 00:00:00</td>\n",
              "      <td>NaN</td>\n",
              "      <td>NaN</td>\n",
              "      <td>정치개혁</td>\n",
              "      <td>이명박 출국금지</td>\n",
              "      <td>이명박 출국금지</td>\n",
              "    </tr>\n",
              "    <tr>\n",
              "      <th>freq</th>\n",
              "      <td>9623</td>\n",
              "      <td>9701</td>\n",
              "      <td>NaN</td>\n",
              "      <td>NaN</td>\n",
              "      <td>59020</td>\n",
              "      <td>3018</td>\n",
              "      <td>597</td>\n",
              "    </tr>\n",
              "    <tr>\n",
              "      <th>first</th>\n",
              "      <td>2017-08-19 00:00:00</td>\n",
              "      <td>2017-08-26 00:00:00</td>\n",
              "      <td>NaN</td>\n",
              "      <td>NaN</td>\n",
              "      <td>NaN</td>\n",
              "      <td>NaN</td>\n",
              "      <td>NaN</td>\n",
              "    </tr>\n",
              "    <tr>\n",
              "      <th>last</th>\n",
              "      <td>2019-01-09 00:00:00</td>\n",
              "      <td>2019-02-08 00:00:00</td>\n",
              "      <td>NaN</td>\n",
              "      <td>NaN</td>\n",
              "      <td>NaN</td>\n",
              "      <td>NaN</td>\n",
              "      <td>NaN</td>\n",
              "    </tr>\n",
              "    <tr>\n",
              "      <th>mean</th>\n",
              "      <td>NaN</td>\n",
              "      <td>NaN</td>\n",
              "      <td>0.000077</td>\n",
              "      <td>1.514069e+02</td>\n",
              "      <td>NaN</td>\n",
              "      <td>NaN</td>\n",
              "      <td>NaN</td>\n",
              "    </tr>\n",
              "    <tr>\n",
              "      <th>std</th>\n",
              "      <td>NaN</td>\n",
              "      <td>NaN</td>\n",
              "      <td>0.008761</td>\n",
              "      <td>4.842551e+03</td>\n",
              "      <td>NaN</td>\n",
              "      <td>NaN</td>\n",
              "      <td>NaN</td>\n",
              "    </tr>\n",
              "    <tr>\n",
              "      <th>min</th>\n",
              "      <td>NaN</td>\n",
              "      <td>NaN</td>\n",
              "      <td>0.000000</td>\n",
              "      <td>0.000000e+00</td>\n",
              "      <td>NaN</td>\n",
              "      <td>NaN</td>\n",
              "      <td>NaN</td>\n",
              "    </tr>\n",
              "    <tr>\n",
              "      <th>25%</th>\n",
              "      <td>NaN</td>\n",
              "      <td>NaN</td>\n",
              "      <td>0.000000</td>\n",
              "      <td>1.000000e+00</td>\n",
              "      <td>NaN</td>\n",
              "      <td>NaN</td>\n",
              "      <td>NaN</td>\n",
              "    </tr>\n",
              "    <tr>\n",
              "      <th>50%</th>\n",
              "      <td>NaN</td>\n",
              "      <td>NaN</td>\n",
              "      <td>0.000000</td>\n",
              "      <td>5.000000e+00</td>\n",
              "      <td>NaN</td>\n",
              "      <td>NaN</td>\n",
              "      <td>NaN</td>\n",
              "    </tr>\n",
              "    <tr>\n",
              "      <th>75%</th>\n",
              "      <td>NaN</td>\n",
              "      <td>NaN</td>\n",
              "      <td>0.000000</td>\n",
              "      <td>1.500000e+01</td>\n",
              "      <td>NaN</td>\n",
              "      <td>NaN</td>\n",
              "      <td>NaN</td>\n",
              "    </tr>\n",
              "    <tr>\n",
              "      <th>max</th>\n",
              "      <td>NaN</td>\n",
              "      <td>NaN</td>\n",
              "      <td>1.000000</td>\n",
              "      <td>1.192049e+06</td>\n",
              "      <td>NaN</td>\n",
              "      <td>NaN</td>\n",
              "      <td>NaN</td>\n",
              "    </tr>\n",
              "  </tbody>\n",
              "</table>\n",
              "</div>"
            ],
            "text/plain": [
              "                      start                  end  ...     title   content\n",
              "count                377756               377756  ...    377756    377755\n",
              "unique                  509                  532  ...    330206    358060\n",
              "top     2017-11-11 00:00:00  2017-12-11 00:00:00  ...  이명박 출국금지  이명박 출국금지\n",
              "freq                   9623                 9701  ...      3018       597\n",
              "first   2017-08-19 00:00:00  2017-08-26 00:00:00  ...       NaN       NaN\n",
              "last    2019-01-09 00:00:00  2019-02-08 00:00:00  ...       NaN       NaN\n",
              "mean                    NaN                  NaN  ...       NaN       NaN\n",
              "std                     NaN                  NaN  ...       NaN       NaN\n",
              "min                     NaN                  NaN  ...       NaN       NaN\n",
              "25%                     NaN                  NaN  ...       NaN       NaN\n",
              "50%                     NaN                  NaN  ...       NaN       NaN\n",
              "75%                     NaN                  NaN  ...       NaN       NaN\n",
              "max                     NaN                  NaN  ...       NaN       NaN\n",
              "\n",
              "[13 rows x 7 columns]"
            ]
          },
          "metadata": {
            "tags": []
          },
          "execution_count": 145
        }
      ]
    },
    {
      "cell_type": "code",
      "metadata": {
        "id": "jYXBvRaMSkPv",
        "colab_type": "code",
        "colab": {
          "base_uri": "https://localhost:8080/",
          "height": 284
        },
        "outputId": "f603e509-c8fd-4e1b-b666-3b0a8df1b377"
      },
      "source": [
        "petitions.describe(include=[np.number])\n",
        "# 수치형 데이터만 보여주라"
      ],
      "execution_count": 146,
      "outputs": [
        {
          "output_type": "execute_result",
          "data": {
            "text/html": [
              "<div>\n",
              "<style scoped>\n",
              "    .dataframe tbody tr th:only-of-type {\n",
              "        vertical-align: middle;\n",
              "    }\n",
              "\n",
              "    .dataframe tbody tr th {\n",
              "        vertical-align: top;\n",
              "    }\n",
              "\n",
              "    .dataframe thead th {\n",
              "        text-align: right;\n",
              "    }\n",
              "</style>\n",
              "<table border=\"1\" class=\"dataframe\">\n",
              "  <thead>\n",
              "    <tr style=\"text-align: right;\">\n",
              "      <th></th>\n",
              "      <th>answered</th>\n",
              "      <th>votes</th>\n",
              "    </tr>\n",
              "  </thead>\n",
              "  <tbody>\n",
              "    <tr>\n",
              "      <th>count</th>\n",
              "      <td>377756.000000</td>\n",
              "      <td>3.777560e+05</td>\n",
              "    </tr>\n",
              "    <tr>\n",
              "      <th>mean</th>\n",
              "      <td>0.000077</td>\n",
              "      <td>1.514069e+02</td>\n",
              "    </tr>\n",
              "    <tr>\n",
              "      <th>std</th>\n",
              "      <td>0.008761</td>\n",
              "      <td>4.842551e+03</td>\n",
              "    </tr>\n",
              "    <tr>\n",
              "      <th>min</th>\n",
              "      <td>0.000000</td>\n",
              "      <td>0.000000e+00</td>\n",
              "    </tr>\n",
              "    <tr>\n",
              "      <th>25%</th>\n",
              "      <td>0.000000</td>\n",
              "      <td>1.000000e+00</td>\n",
              "    </tr>\n",
              "    <tr>\n",
              "      <th>50%</th>\n",
              "      <td>0.000000</td>\n",
              "      <td>5.000000e+00</td>\n",
              "    </tr>\n",
              "    <tr>\n",
              "      <th>75%</th>\n",
              "      <td>0.000000</td>\n",
              "      <td>1.500000e+01</td>\n",
              "    </tr>\n",
              "    <tr>\n",
              "      <th>max</th>\n",
              "      <td>1.000000</td>\n",
              "      <td>1.192049e+06</td>\n",
              "    </tr>\n",
              "  </tbody>\n",
              "</table>\n",
              "</div>"
            ],
            "text/plain": [
              "            answered         votes\n",
              "count  377756.000000  3.777560e+05\n",
              "mean        0.000077  1.514069e+02\n",
              "std         0.008761  4.842551e+03\n",
              "min         0.000000  0.000000e+00\n",
              "25%         0.000000  1.000000e+00\n",
              "50%         0.000000  5.000000e+00\n",
              "75%         0.000000  1.500000e+01\n",
              "max         1.000000  1.192049e+06"
            ]
          },
          "metadata": {
            "tags": []
          },
          "execution_count": 146
        }
      ]
    },
    {
      "cell_type": "code",
      "metadata": {
        "id": "JLsLwOoeSwQ-",
        "colab_type": "code",
        "colab": {
          "base_uri": "https://localhost:8080/",
          "height": 166
        },
        "outputId": "3b16c404-9f03-47f1-a797-8f089bef3297"
      },
      "source": [
        "petitions.describe(include=[np.object])\n",
        "# Object type 데이터만 보여주라\n",
        "# top은 가장 많이 올라온 건(도배된 값들)"
      ],
      "execution_count": 147,
      "outputs": [
        {
          "output_type": "execute_result",
          "data": {
            "text/html": [
              "<div>\n",
              "<style scoped>\n",
              "    .dataframe tbody tr th:only-of-type {\n",
              "        vertical-align: middle;\n",
              "    }\n",
              "\n",
              "    .dataframe tbody tr th {\n",
              "        vertical-align: top;\n",
              "    }\n",
              "\n",
              "    .dataframe thead th {\n",
              "        text-align: right;\n",
              "    }\n",
              "</style>\n",
              "<table border=\"1\" class=\"dataframe\">\n",
              "  <thead>\n",
              "    <tr style=\"text-align: right;\">\n",
              "      <th></th>\n",
              "      <th>category</th>\n",
              "      <th>title</th>\n",
              "      <th>content</th>\n",
              "    </tr>\n",
              "  </thead>\n",
              "  <tbody>\n",
              "    <tr>\n",
              "      <th>count</th>\n",
              "      <td>377756</td>\n",
              "      <td>377756</td>\n",
              "      <td>377755</td>\n",
              "    </tr>\n",
              "    <tr>\n",
              "      <th>unique</th>\n",
              "      <td>17</td>\n",
              "      <td>330206</td>\n",
              "      <td>358060</td>\n",
              "    </tr>\n",
              "    <tr>\n",
              "      <th>top</th>\n",
              "      <td>정치개혁</td>\n",
              "      <td>이명박 출국금지</td>\n",
              "      <td>이명박 출국금지</td>\n",
              "    </tr>\n",
              "    <tr>\n",
              "      <th>freq</th>\n",
              "      <td>59020</td>\n",
              "      <td>3018</td>\n",
              "      <td>597</td>\n",
              "    </tr>\n",
              "  </tbody>\n",
              "</table>\n",
              "</div>"
            ],
            "text/plain": [
              "       category     title   content\n",
              "count    377756    377756    377755\n",
              "unique       17    330206    358060\n",
              "top        정치개혁  이명박 출국금지  이명박 출국금지\n",
              "freq      59020      3018       597"
            ]
          },
          "metadata": {
            "tags": []
          },
          "execution_count": 147
        }
      ]
    },
    {
      "cell_type": "markdown",
      "metadata": {
        "id": "Q0YkoyHtS-Y_",
        "colab_type": "text"
      },
      "source": [
        "## 결측치가 있는 지 확인"
      ]
    },
    {
      "cell_type": "markdown",
      "metadata": {
        "id": "KQjHRQ6zTWTE",
        "colab_type": "text"
      },
      "source": [
        "* 측정이 안된 값 / null 값\n",
        "* N/A인 컬럼을 요약해서 보여줌다.\n",
        "* 결측치가 있다면 보정이 필요하다. 그러나 이 데이터는 너무나 깔끔하여 결측치가 없다.\n",
        "* 하지만 때론 결측치가 0이나 다른 숫자를 대체해서 들어가 있을 수 있으므로 데이터를 좀 더 살펴봐야 한다."
      ]
    },
    {
      "cell_type": "code",
      "metadata": {
        "id": "fn2pg8kWT5AU",
        "colab_type": "code",
        "colab": {
          "base_uri": "https://localhost:8080/",
          "height": 158
        },
        "outputId": "bfb97895-93fe-459c-ab2a-110aba9fb08c"
      },
      "source": [
        "petitions.isnull().sum()\n",
        "# 크롤링을 해온 데이터라서 content 하나가 빠져있음."
      ],
      "execution_count": 148,
      "outputs": [
        {
          "output_type": "execute_result",
          "data": {
            "text/plain": [
              "start       0\n",
              "end         0\n",
              "answered    0\n",
              "votes       0\n",
              "category    0\n",
              "title       0\n",
              "content     1\n",
              "dtype: int64"
            ]
          },
          "metadata": {
            "tags": []
          },
          "execution_count": 148
        }
      ]
    },
    {
      "cell_type": "markdown",
      "metadata": {
        "id": "l9EwUUSmUSnE",
        "colab_type": "text"
      },
      "source": [
        "### 답변 대상 청원 컬럼 다시 만들기"
      ]
    },
    {
      "cell_type": "markdown",
      "metadata": {
        "id": "sKj2UwtpUSsI",
        "colab_type": "text"
      },
      "source": [
        "기존 answered 컬럼에 답변여부가 있었다. 여기에서는 답변 받은 것과 상관없이 답변 대상 건에 대해 새로운 칼럼을 추가해 주었다."
      ]
    },
    {
      "cell_type": "code",
      "metadata": {
        "id": "o_NofPHVURop",
        "colab_type": "code",
        "colab": {
          "base_uri": "https://localhost:8080/",
          "height": 34
        },
        "outputId": "1df049b9-abdb-45f1-96b4-290e32402040"
      },
      "source": [
        "petitions['answer'] = (petitions['votes'] > 200000) == 1\n",
        "# 200000건이 넘는 애만 answer라는 column에 1을 넣어라\n",
        "petitions.shape"
      ],
      "execution_count": 149,
      "outputs": [
        {
          "output_type": "execute_result",
          "data": {
            "text/plain": [
              "(377756, 8)"
            ]
          },
          "metadata": {
            "tags": []
          },
          "execution_count": 149
        }
      ]
    },
    {
      "cell_type": "code",
      "metadata": {
        "id": "T_dkCKP7VD13",
        "colab_type": "code",
        "colab": {
          "base_uri": "https://localhost:8080/",
          "height": 309
        },
        "outputId": "b90b8388-4bfd-4384-8157-c3ca2056b8c1"
      },
      "source": [
        "petitions.head()"
      ],
      "execution_count": 150,
      "outputs": [
        {
          "output_type": "execute_result",
          "data": {
            "text/html": [
              "<div>\n",
              "<style scoped>\n",
              "    .dataframe tbody tr th:only-of-type {\n",
              "        vertical-align: middle;\n",
              "    }\n",
              "\n",
              "    .dataframe tbody tr th {\n",
              "        vertical-align: top;\n",
              "    }\n",
              "\n",
              "    .dataframe thead th {\n",
              "        text-align: right;\n",
              "    }\n",
              "</style>\n",
              "<table border=\"1\" class=\"dataframe\">\n",
              "  <thead>\n",
              "    <tr style=\"text-align: right;\">\n",
              "      <th></th>\n",
              "      <th>start</th>\n",
              "      <th>end</th>\n",
              "      <th>answered</th>\n",
              "      <th>votes</th>\n",
              "      <th>category</th>\n",
              "      <th>title</th>\n",
              "      <th>content</th>\n",
              "      <th>answer</th>\n",
              "    </tr>\n",
              "    <tr>\n",
              "      <th>article_id</th>\n",
              "      <th></th>\n",
              "      <th></th>\n",
              "      <th></th>\n",
              "      <th></th>\n",
              "      <th></th>\n",
              "      <th></th>\n",
              "      <th></th>\n",
              "      <th></th>\n",
              "    </tr>\n",
              "  </thead>\n",
              "  <tbody>\n",
              "    <tr>\n",
              "      <th>21</th>\n",
              "      <td>2017-08-19</td>\n",
              "      <td>2017-11-17</td>\n",
              "      <td>0</td>\n",
              "      <td>9</td>\n",
              "      <td>안전/환경</td>\n",
              "      <td>스텔라 데이지호에 대한 제안입니다.</td>\n",
              "      <td>스텔라 데이지호에 대한 제안입니다.\\n3월31일 스텔라 데이지호가 침몰하고 5달째가...</td>\n",
              "      <td>False</td>\n",
              "    </tr>\n",
              "    <tr>\n",
              "      <th>22</th>\n",
              "      <td>2017-08-19</td>\n",
              "      <td>2017-11-17</td>\n",
              "      <td>0</td>\n",
              "      <td>17</td>\n",
              "      <td>기타</td>\n",
              "      <td>비리제보처를 만들어주세요.</td>\n",
              "      <td>현 정부에 국민들이 가장 원하는 것은 부패척결입니다.  우리 사회에 각종 비리들이 ...</td>\n",
              "      <td>False</td>\n",
              "    </tr>\n",
              "    <tr>\n",
              "      <th>23</th>\n",
              "      <td>2017-08-19</td>\n",
              "      <td>2017-09-03</td>\n",
              "      <td>0</td>\n",
              "      <td>0</td>\n",
              "      <td>미래</td>\n",
              "      <td>제2의 개성공단</td>\n",
              "      <td>만일 하시는 대통령님 및 각 부처 장관님,주무관님들 안녕하세요!!\\n전남 목포에서 ...</td>\n",
              "      <td>False</td>\n",
              "    </tr>\n",
              "    <tr>\n",
              "      <th>24</th>\n",
              "      <td>2017-08-19</td>\n",
              "      <td>2017-08-26</td>\n",
              "      <td>0</td>\n",
              "      <td>53</td>\n",
              "      <td>일자리</td>\n",
              "      <td>공공기관 무조건적인 정규직전환을 반대합니다.</td>\n",
              "      <td>현정부에서 정규직 일자리를 늘리는 것에 찬성합니다. 그런데 공공기관 비정규직들은 인...</td>\n",
              "      <td>False</td>\n",
              "    </tr>\n",
              "    <tr>\n",
              "      <th>25</th>\n",
              "      <td>2017-08-19</td>\n",
              "      <td>2017-09-03</td>\n",
              "      <td>0</td>\n",
              "      <td>0</td>\n",
              "      <td>미래</td>\n",
              "      <td>제2의 개성공단</td>\n",
              "      <td>만일 하시는 대통령님 및 각 부처 장관님,주무관님들 안녕하세요!!\\n전남 목포에서 ...</td>\n",
              "      <td>False</td>\n",
              "    </tr>\n",
              "  </tbody>\n",
              "</table>\n",
              "</div>"
            ],
            "text/plain": [
              "                start  ... answer\n",
              "article_id             ...       \n",
              "21         2017-08-19  ...  False\n",
              "22         2017-08-19  ...  False\n",
              "23         2017-08-19  ...  False\n",
              "24         2017-08-19  ...  False\n",
              "25         2017-08-19  ...  False\n",
              "\n",
              "[5 rows x 8 columns]"
            ]
          },
          "metadata": {
            "tags": []
          },
          "execution_count": 150
        }
      ]
    },
    {
      "cell_type": "code",
      "metadata": {
        "id": "jaABVgHJVD_e",
        "colab_type": "code",
        "colab": {
          "base_uri": "https://localhost:8080/",
          "height": 309
        },
        "outputId": "2c865b63-6471-41c1-9d97-6b63136e33af"
      },
      "source": [
        "petitions.tail()"
      ],
      "execution_count": 151,
      "outputs": [
        {
          "output_type": "execute_result",
          "data": {
            "text/html": [
              "<div>\n",
              "<style scoped>\n",
              "    .dataframe tbody tr th:only-of-type {\n",
              "        vertical-align: middle;\n",
              "    }\n",
              "\n",
              "    .dataframe tbody tr th {\n",
              "        vertical-align: top;\n",
              "    }\n",
              "\n",
              "    .dataframe thead th {\n",
              "        text-align: right;\n",
              "    }\n",
              "</style>\n",
              "<table border=\"1\" class=\"dataframe\">\n",
              "  <thead>\n",
              "    <tr style=\"text-align: right;\">\n",
              "      <th></th>\n",
              "      <th>start</th>\n",
              "      <th>end</th>\n",
              "      <th>answered</th>\n",
              "      <th>votes</th>\n",
              "      <th>category</th>\n",
              "      <th>title</th>\n",
              "      <th>content</th>\n",
              "      <th>answer</th>\n",
              "    </tr>\n",
              "    <tr>\n",
              "      <th>article_id</th>\n",
              "      <th></th>\n",
              "      <th></th>\n",
              "      <th></th>\n",
              "      <th></th>\n",
              "      <th></th>\n",
              "      <th></th>\n",
              "      <th></th>\n",
              "      <th></th>\n",
              "    </tr>\n",
              "  </thead>\n",
              "  <tbody>\n",
              "    <tr>\n",
              "      <th>492039</th>\n",
              "      <td>2019-01-09</td>\n",
              "      <td>2019-02-08</td>\n",
              "      <td>0</td>\n",
              "      <td>48</td>\n",
              "      <td>인권/성평등</td>\n",
              "      <td>박종철 의원. 폭행구속수사 및 의원직 박탈 청원합니다</td>\n",
              "      <td>나라돈으로 해외연수가서 현지 동반 가이드를 때려 안경 파편이 얼굴이 꽂혔답니다. C...</td>\n",
              "      <td>False</td>\n",
              "    </tr>\n",
              "    <tr>\n",
              "      <th>492040</th>\n",
              "      <td>2019-01-09</td>\n",
              "      <td>2019-02-08</td>\n",
              "      <td>0</td>\n",
              "      <td>5</td>\n",
              "      <td>정치개혁</td>\n",
              "      <td>각 정상들은 들으시요 국회의원을 학력과 무관한 양심 및  윤리가 있는  서민이 되어...</td>\n",
              "      <td>각 정당은 현재 국회의원 개개인을 심사하면 지탄받은 사람이 국\\n회를 장악하고 있습...</td>\n",
              "      <td>False</td>\n",
              "    </tr>\n",
              "    <tr>\n",
              "      <th>492041</th>\n",
              "      <td>2019-01-09</td>\n",
              "      <td>2019-02-08</td>\n",
              "      <td>0</td>\n",
              "      <td>1</td>\n",
              "      <td>외교/통일/국방</td>\n",
              "      <td>남한땅에 옥류관을 오픈해주세요</td>\n",
              "      <td>말그대로 옥류관을 여기서 열면 진짜 재미있고 신나는 일이 일어날것 같은 느낌이 듭니...</td>\n",
              "      <td>False</td>\n",
              "    </tr>\n",
              "    <tr>\n",
              "      <th>492042</th>\n",
              "      <td>2019-01-09</td>\n",
              "      <td>2019-02-08</td>\n",
              "      <td>0</td>\n",
              "      <td>4</td>\n",
              "      <td>정치개혁</td>\n",
              "      <td>임종석실장님 수고많으셨습니다.</td>\n",
              "      <td>범죄정권이후 많은 어려움을 갖고 시작한 국민의정부.\\n저급한 자칭 보수단체와 한국당...</td>\n",
              "      <td>False</td>\n",
              "    </tr>\n",
              "    <tr>\n",
              "      <th>492043</th>\n",
              "      <td>2019-01-09</td>\n",
              "      <td>2019-02-08</td>\n",
              "      <td>0</td>\n",
              "      <td>1</td>\n",
              "      <td>행정</td>\n",
              "      <td>예천군과 환경부를 규탄합니다. 어불성설인 가축사육 관련 법규를 개정해주세요!</td>\n",
              "      <td>해당 사건이 발생한 곳은 요즘은 매체에서 매일 나오는 곳으로 '군의원의 외유성 해외...</td>\n",
              "      <td>False</td>\n",
              "    </tr>\n",
              "  </tbody>\n",
              "</table>\n",
              "</div>"
            ],
            "text/plain": [
              "                start  ... answer\n",
              "article_id             ...       \n",
              "492039     2019-01-09  ...  False\n",
              "492040     2019-01-09  ...  False\n",
              "492041     2019-01-09  ...  False\n",
              "492042     2019-01-09  ...  False\n",
              "492043     2019-01-09  ...  False\n",
              "\n",
              "[5 rows x 8 columns]"
            ]
          },
          "metadata": {
            "tags": []
          },
          "execution_count": 151
        }
      ]
    },
    {
      "cell_type": "markdown",
      "metadata": {
        "id": "wrp7TzDTUS36",
        "colab_type": "text"
      },
      "source": [
        "### 청원기간 컬럼 설정"
      ]
    },
    {
      "cell_type": "code",
      "metadata": {
        "id": "2L6Dx77gVW7q",
        "colab_type": "code",
        "colab": {
          "base_uri": "https://localhost:8080/",
          "height": 216
        },
        "outputId": "eea746f7-1cdf-4e95-8677-d82a1ca3be66"
      },
      "source": [
        "# 청원 기간을 나타내는 column 'duration' 생성\n",
        "petitions['duration'] = petitions['end'] - petitions['start']\n",
        "petitions.sort_values('duration', ascending=True).tail(3)"
      ],
      "execution_count": 152,
      "outputs": [
        {
          "output_type": "execute_result",
          "data": {
            "text/html": [
              "<div>\n",
              "<style scoped>\n",
              "    .dataframe tbody tr th:only-of-type {\n",
              "        vertical-align: middle;\n",
              "    }\n",
              "\n",
              "    .dataframe tbody tr th {\n",
              "        vertical-align: top;\n",
              "    }\n",
              "\n",
              "    .dataframe thead th {\n",
              "        text-align: right;\n",
              "    }\n",
              "</style>\n",
              "<table border=\"1\" class=\"dataframe\">\n",
              "  <thead>\n",
              "    <tr style=\"text-align: right;\">\n",
              "      <th></th>\n",
              "      <th>start</th>\n",
              "      <th>end</th>\n",
              "      <th>answered</th>\n",
              "      <th>votes</th>\n",
              "      <th>category</th>\n",
              "      <th>title</th>\n",
              "      <th>content</th>\n",
              "      <th>answer</th>\n",
              "      <th>duration</th>\n",
              "    </tr>\n",
              "    <tr>\n",
              "      <th>article_id</th>\n",
              "      <th></th>\n",
              "      <th></th>\n",
              "      <th></th>\n",
              "      <th></th>\n",
              "      <th></th>\n",
              "      <th></th>\n",
              "      <th></th>\n",
              "      <th></th>\n",
              "      <th></th>\n",
              "    </tr>\n",
              "  </thead>\n",
              "  <tbody>\n",
              "    <tr>\n",
              "      <th>8227</th>\n",
              "      <td>2017-09-05</td>\n",
              "      <td>2017-12-04</td>\n",
              "      <td>0</td>\n",
              "      <td>0</td>\n",
              "      <td>정치개혁</td>\n",
              "      <td>소년법폐지</td>\n",
              "      <td>제발 소년법 폐지해주세요. 이런 끔찍한 일이 더이상 없어야합니다.</td>\n",
              "      <td>False</td>\n",
              "      <td>90 days</td>\n",
              "    </tr>\n",
              "    <tr>\n",
              "      <th>8200</th>\n",
              "      <td>2017-09-05</td>\n",
              "      <td>2017-12-04</td>\n",
              "      <td>0</td>\n",
              "      <td>0</td>\n",
              "      <td>정치개혁</td>\n",
              "      <td>청소년보호법 폐지해주세요</td>\n",
              "      <td>이건 애들이라 봐줄게 아닙니다 반드시  폐해주세요</td>\n",
              "      <td>False</td>\n",
              "      <td>90 days</td>\n",
              "    </tr>\n",
              "    <tr>\n",
              "      <th>21</th>\n",
              "      <td>2017-08-19</td>\n",
              "      <td>2017-11-17</td>\n",
              "      <td>0</td>\n",
              "      <td>9</td>\n",
              "      <td>안전/환경</td>\n",
              "      <td>스텔라 데이지호에 대한 제안입니다.</td>\n",
              "      <td>스텔라 데이지호에 대한 제안입니다.\\n3월31일 스텔라 데이지호가 침몰하고 5달째가...</td>\n",
              "      <td>False</td>\n",
              "      <td>90 days</td>\n",
              "    </tr>\n",
              "  </tbody>\n",
              "</table>\n",
              "</div>"
            ],
            "text/plain": [
              "                start        end  ...  answer  duration\n",
              "article_id                        ...                  \n",
              "8227       2017-09-05 2017-12-04  ...   False   90 days\n",
              "8200       2017-09-05 2017-12-04  ...   False   90 days\n",
              "21         2017-08-19 2017-11-17  ...   False   90 days\n",
              "\n",
              "[3 rows x 9 columns]"
            ]
          },
          "metadata": {
            "tags": []
          },
          "execution_count": 152
        }
      ]
    },
    {
      "cell_type": "code",
      "metadata": {
        "id": "z-IfvhBAWA_J",
        "colab_type": "code",
        "colab": {
          "base_uri": "https://localhost:8080/",
          "height": 122
        },
        "outputId": "bd6bc256-b1b9-429f-e6ae-fb0cebe39a25"
      },
      "source": [
        "petitions['duration'].value_counts()\n",
        "# groupby해서 모은 값들을 보여준다."
      ],
      "execution_count": 153,
      "outputs": [
        {
          "output_type": "execute_result",
          "data": {
            "text/plain": [
              "30 days    366556\n",
              "90 days      6754\n",
              "7 days       2436\n",
              "15 days      1204\n",
              "60 days       806\n",
              "Name: duration, dtype: int64"
            ]
          },
          "metadata": {
            "tags": []
          },
          "execution_count": 153
        }
      ]
    },
    {
      "cell_type": "markdown",
      "metadata": {
        "id": "A1nfXtcJWN7A",
        "colab_type": "text"
      },
      "source": [
        "청원 기간이 90 일이고 답변 대상 건"
      ]
    },
    {
      "cell_type": "code",
      "metadata": {
        "id": "YFftzNL8WRJD",
        "colab_type": "code",
        "colab": {
          "base_uri": "https://localhost:8080/",
          "height": 106
        },
        "outputId": "479dc1f1-f537-47f2-d916-96e0dca0639b"
      },
      "source": [
        "petitions.loc[(petitions['duration']== '90 days') & (petitions['answer'] == 1)]"
      ],
      "execution_count": 154,
      "outputs": [
        {
          "output_type": "execute_result",
          "data": {
            "text/html": [
              "<div>\n",
              "<style scoped>\n",
              "    .dataframe tbody tr th:only-of-type {\n",
              "        vertical-align: middle;\n",
              "    }\n",
              "\n",
              "    .dataframe tbody tr th {\n",
              "        vertical-align: top;\n",
              "    }\n",
              "\n",
              "    .dataframe thead th {\n",
              "        text-align: right;\n",
              "    }\n",
              "</style>\n",
              "<table border=\"1\" class=\"dataframe\">\n",
              "  <thead>\n",
              "    <tr style=\"text-align: right;\">\n",
              "      <th></th>\n",
              "      <th>start</th>\n",
              "      <th>end</th>\n",
              "      <th>answered</th>\n",
              "      <th>votes</th>\n",
              "      <th>category</th>\n",
              "      <th>title</th>\n",
              "      <th>content</th>\n",
              "      <th>answer</th>\n",
              "      <th>duration</th>\n",
              "    </tr>\n",
              "    <tr>\n",
              "      <th>article_id</th>\n",
              "      <th></th>\n",
              "      <th></th>\n",
              "      <th></th>\n",
              "      <th></th>\n",
              "      <th></th>\n",
              "      <th></th>\n",
              "      <th></th>\n",
              "      <th></th>\n",
              "      <th></th>\n",
              "    </tr>\n",
              "  </thead>\n",
              "  <tbody>\n",
              "    <tr>\n",
              "      <th>10949</th>\n",
              "      <td>2017-09-06</td>\n",
              "      <td>2017-12-05</td>\n",
              "      <td>1</td>\n",
              "      <td>615354</td>\n",
              "      <td>미래</td>\n",
              "      <td>조두순 출소반대</td>\n",
              "      <td>제발 조두순 재심다시해서 무기징역으로 해야됩니다!!!</td>\n",
              "      <td>True</td>\n",
              "      <td>90 days</td>\n",
              "    </tr>\n",
              "  </tbody>\n",
              "</table>\n",
              "</div>"
            ],
            "text/plain": [
              "                start        end  ...  answer  duration\n",
              "article_id                        ...                  \n",
              "10949      2017-09-06 2017-12-05  ...    True   90 days\n",
              "\n",
              "[1 rows x 9 columns]"
            ]
          },
          "metadata": {
            "tags": []
          },
          "execution_count": 154
        }
      ]
    },
    {
      "cell_type": "markdown",
      "metadata": {
        "id": "QN-U77BvWpoN",
        "colab_type": "text"
      },
      "source": [
        "청원 기간이 60 일이고 답변 대상 건"
      ]
    },
    {
      "cell_type": "code",
      "metadata": {
        "id": "tCvwE-N6WrEy",
        "colab_type": "code",
        "colab": {
          "base_uri": "https://localhost:8080/",
          "height": 211
        },
        "outputId": "367de3d3-1760-4841-ce51-0a91ee088be4"
      },
      "source": [
        "petitions_60_answer = petitions.loc[(petitions['duration']== '60 days') & (petitions['answer'] == 1)]\n",
        "print(petitions_60_answer)\n",
        "petitions_60_answer.head()"
      ],
      "execution_count": 155,
      "outputs": [
        {
          "output_type": "stream",
          "text": [
            "                start        end  ...  answer  duration\n",
            "article_id                        ...                  \n",
            "1785       2017-09-03 2017-11-02  ...    True   60 days\n",
            "\n",
            "[1 rows x 9 columns]\n"
          ],
          "name": "stdout"
        },
        {
          "output_type": "execute_result",
          "data": {
            "text/html": [
              "<div>\n",
              "<style scoped>\n",
              "    .dataframe tbody tr th:only-of-type {\n",
              "        vertical-align: middle;\n",
              "    }\n",
              "\n",
              "    .dataframe tbody tr th {\n",
              "        vertical-align: top;\n",
              "    }\n",
              "\n",
              "    .dataframe thead th {\n",
              "        text-align: right;\n",
              "    }\n",
              "</style>\n",
              "<table border=\"1\" class=\"dataframe\">\n",
              "  <thead>\n",
              "    <tr style=\"text-align: right;\">\n",
              "      <th></th>\n",
              "      <th>start</th>\n",
              "      <th>end</th>\n",
              "      <th>answered</th>\n",
              "      <th>votes</th>\n",
              "      <th>category</th>\n",
              "      <th>title</th>\n",
              "      <th>content</th>\n",
              "      <th>answer</th>\n",
              "      <th>duration</th>\n",
              "    </tr>\n",
              "    <tr>\n",
              "      <th>article_id</th>\n",
              "      <th></th>\n",
              "      <th></th>\n",
              "      <th></th>\n",
              "      <th></th>\n",
              "      <th></th>\n",
              "      <th></th>\n",
              "      <th></th>\n",
              "      <th></th>\n",
              "      <th></th>\n",
              "    </tr>\n",
              "  </thead>\n",
              "  <tbody>\n",
              "    <tr>\n",
              "      <th>1785</th>\n",
              "      <td>2017-09-03</td>\n",
              "      <td>2017-11-02</td>\n",
              "      <td>1</td>\n",
              "      <td>296330</td>\n",
              "      <td>인권/성평등</td>\n",
              "      <td>청소년이란 이유로 보호법을 악용하는 잔인무도한 청소년들이 늘어나고있습니다. 반드시 ...</td>\n",
              "      <td>안녕하십니까. 청소년보호법이란 명목하에 나쁜짓을 일삼는 청소년들이 너무나 많아지고 ...</td>\n",
              "      <td>True</td>\n",
              "      <td>60 days</td>\n",
              "    </tr>\n",
              "  </tbody>\n",
              "</table>\n",
              "</div>"
            ],
            "text/plain": [
              "                start        end  ...  answer  duration\n",
              "article_id                        ...                  \n",
              "1785       2017-09-03 2017-11-02  ...    True   60 days\n",
              "\n",
              "[1 rows x 9 columns]"
            ]
          },
          "metadata": {
            "tags": []
          },
          "execution_count": 155
        }
      ]
    },
    {
      "cell_type": "markdown",
      "metadata": {
        "id": "kH0CkEvZXC-j",
        "colab_type": "text"
      },
      "source": [
        "청원 기간이 30이이고 답변 대상 건"
      ]
    },
    {
      "cell_type": "code",
      "metadata": {
        "id": "H3Bph7U2XHNU",
        "colab_type": "code",
        "colab": {
          "base_uri": "https://localhost:8080/",
          "height": 617
        },
        "outputId": "0154a0ca-5a78-4ba8-c4b9-4bc4e5ec2f89"
      },
      "source": [
        "petitions_30_answer = petitions.loc[(petitions['duration']== '30 days') & (petitions['answer'] == 1)]\n",
        "print(petitions_30_answer.shape)\n",
        "petitions_30_answer"
      ],
      "execution_count": 156,
      "outputs": [
        {
          "output_type": "stream",
          "text": [
            "(75, 9)\n"
          ],
          "name": "stdout"
        },
        {
          "output_type": "execute_result",
          "data": {
            "text/html": [
              "<div>\n",
              "<style scoped>\n",
              "    .dataframe tbody tr th:only-of-type {\n",
              "        vertical-align: middle;\n",
              "    }\n",
              "\n",
              "    .dataframe tbody tr th {\n",
              "        vertical-align: top;\n",
              "    }\n",
              "\n",
              "    .dataframe thead th {\n",
              "        text-align: right;\n",
              "    }\n",
              "</style>\n",
              "<table border=\"1\" class=\"dataframe\">\n",
              "  <thead>\n",
              "    <tr style=\"text-align: right;\">\n",
              "      <th></th>\n",
              "      <th>start</th>\n",
              "      <th>end</th>\n",
              "      <th>answered</th>\n",
              "      <th>votes</th>\n",
              "      <th>category</th>\n",
              "      <th>title</th>\n",
              "      <th>content</th>\n",
              "      <th>answer</th>\n",
              "      <th>duration</th>\n",
              "    </tr>\n",
              "    <tr>\n",
              "      <th>article_id</th>\n",
              "      <th></th>\n",
              "      <th></th>\n",
              "      <th></th>\n",
              "      <th></th>\n",
              "      <th></th>\n",
              "      <th></th>\n",
              "      <th></th>\n",
              "      <th></th>\n",
              "      <th></th>\n",
              "    </tr>\n",
              "  </thead>\n",
              "  <tbody>\n",
              "    <tr>\n",
              "      <th>18278</th>\n",
              "      <td>2017-09-30</td>\n",
              "      <td>2017-10-30</td>\n",
              "      <td>1</td>\n",
              "      <td>235372</td>\n",
              "      <td>인권/성평등</td>\n",
              "      <td>낙태죄 폐지와 자연유산 유도약(미프진) 합법화 및 도입을 부탁드립니다.</td>\n",
              "      <td>안녕하세요. 존경하는 대통령님 의원님\\n낙태죄 폐지를 청원합니다.\\n현재 대한민국은...</td>\n",
              "      <td>True</td>\n",
              "      <td>30 days</td>\n",
              "    </tr>\n",
              "    <tr>\n",
              "      <th>26024</th>\n",
              "      <td>2017-11-04</td>\n",
              "      <td>2017-12-04</td>\n",
              "      <td>1</td>\n",
              "      <td>216774</td>\n",
              "      <td>안전/환경</td>\n",
              "      <td>'주취감형(술을 먹으면 형벌 감형)' 폐지를 건의(청원)합니다.</td>\n",
              "      <td>'주취감형'이란, 술을 먹고 범행을 저지를 때, 심신미약 (이성이 없고 우발적)이라...</td>\n",
              "      <td>True</td>\n",
              "      <td>30 days</td>\n",
              "    </tr>\n",
              "    <tr>\n",
              "      <th>45581</th>\n",
              "      <td>2017-11-17</td>\n",
              "      <td>2017-12-17</td>\n",
              "      <td>1</td>\n",
              "      <td>281985</td>\n",
              "      <td>보건복지</td>\n",
              "      <td>권역외상센터 (이국종 교수님) 추가적, 제도적, 환경적, 인력 지원</td>\n",
              "      <td>청원사항)\\n중증외상분야의 추가적, 제도적, 환경적, 인력 지원 방안마련\\n현 의료...</td>\n",
              "      <td>True</td>\n",
              "      <td>30 days</td>\n",
              "    </tr>\n",
              "    <tr>\n",
              "      <th>49083</th>\n",
              "      <td>2017-11-24</td>\n",
              "      <td>2017-12-24</td>\n",
              "      <td>1</td>\n",
              "      <td>211064</td>\n",
              "      <td>기타</td>\n",
              "      <td>전안법. 18살, 미성년자에게 정부가 직접 찍어주는 범죄자 낙인!</td>\n",
              "      <td>3년 이하의 징역, 또는3천만원 이하의 벌금. 혹은 500만원 이하의 과태료.\\n설...</td>\n",
              "      <td>True</td>\n",
              "      <td>30 days</td>\n",
              "    </tr>\n",
              "    <tr>\n",
              "      <th>57132</th>\n",
              "      <td>2017-12-03</td>\n",
              "      <td>2018-01-02</td>\n",
              "      <td>1</td>\n",
              "      <td>255554</td>\n",
              "      <td>성장동력</td>\n",
              "      <td>전안법 합리적으로 개정 또는 폐지해주세요.(소상공인 소비자 모두 죽는법안입니다.)</td>\n",
              "      <td>2017년 1월 28일부터 시행되는 법령으로 국가기술표준원에서 관리하는 전기제품에만...</td>\n",
              "      <td>True</td>\n",
              "      <td>30 days</td>\n",
              "    </tr>\n",
              "    <tr>\n",
              "      <th>...</th>\n",
              "      <td>...</td>\n",
              "      <td>...</td>\n",
              "      <td>...</td>\n",
              "      <td>...</td>\n",
              "      <td>...</td>\n",
              "      <td>...</td>\n",
              "      <td>...</td>\n",
              "      <td>...</td>\n",
              "      <td>...</td>\n",
              "    </tr>\n",
              "    <tr>\n",
              "      <th>454045</th>\n",
              "      <td>2018-11-27</td>\n",
              "      <td>2018-12-27</td>\n",
              "      <td>0</td>\n",
              "      <td>214251</td>\n",
              "      <td>반려동물</td>\n",
              "      <td>도살장에서 망치로 머리를 맞던 개가 잠시 튀어나가 옆에있는 자신의 새끼에게 젖물리며...</td>\n",
              "      <td>아래의 링크를 봐주세요\\n사람과 똑같이 자신의 자식을 귀히여기고 사람과 똑같이 죽는...</td>\n",
              "      <td>True</td>\n",
              "      <td>30 days</td>\n",
              "    </tr>\n",
              "    <tr>\n",
              "      <th>462340</th>\n",
              "      <td>2018-12-06</td>\n",
              "      <td>2019-01-05</td>\n",
              "      <td>0</td>\n",
              "      <td>221317</td>\n",
              "      <td>육아/교육</td>\n",
              "      <td>짐승보다 못한 위탁모 에게 굶기고 맞아죽은 15개월된 저희딸 얘기좀 들어주세요....</td>\n",
              "      <td>짐승 같은 위탁모(김모씨) 에게 맞아 죽은 15개월 된 저희 딸 서원이가 억울하게 ...</td>\n",
              "      <td>True</td>\n",
              "      <td>30 days</td>\n",
              "    </tr>\n",
              "    <tr>\n",
              "      <th>462623</th>\n",
              "      <td>2018-12-07</td>\n",
              "      <td>2019-01-06</td>\n",
              "      <td>0</td>\n",
              "      <td>243938</td>\n",
              "      <td>정치개혁</td>\n",
              "      <td>국회의원 내년 연봉 2000만원 인상 추진..최저임금 인상률보다 높은 14%.. 셀...</td>\n",
              "      <td>국회의원 내년 연봉 2000만원 인상 추진..최저임금 인상률보다 높은 14%로 인상...</td>\n",
              "      <td>True</td>\n",
              "      <td>30 days</td>\n",
              "    </tr>\n",
              "    <tr>\n",
              "      <th>472309</th>\n",
              "      <td>2018-12-18</td>\n",
              "      <td>2019-01-17</td>\n",
              "      <td>0</td>\n",
              "      <td>269110</td>\n",
              "      <td>인권/성평등</td>\n",
              "      <td>조재범 코치를 강력처벌해주세요</td>\n",
              "      <td>그는 국가대표 심석희 외 다수의 여자선수들을 지속적으로 적어도 14년간 폭행해온 쓰...</td>\n",
              "      <td>True</td>\n",
              "      <td>30 days</td>\n",
              "    </tr>\n",
              "    <tr>\n",
              "      <th>489302</th>\n",
              "      <td>2019-01-07</td>\n",
              "      <td>2019-02-06</td>\n",
              "      <td>0</td>\n",
              "      <td>302856</td>\n",
              "      <td>정치개혁</td>\n",
              "      <td>여.야는 속히 공수처 신설하라 !!!</td>\n",
              "      <td>지금 대한 민국은 나라를 바로 잡기 위해 반드시 이번 정부내에 검찰과 법원의 확실한...</td>\n",
              "      <td>True</td>\n",
              "      <td>30 days</td>\n",
              "    </tr>\n",
              "  </tbody>\n",
              "</table>\n",
              "<p>75 rows × 9 columns</p>\n",
              "</div>"
            ],
            "text/plain": [
              "                start        end  ...  answer  duration\n",
              "article_id                        ...                  \n",
              "18278      2017-09-30 2017-10-30  ...    True   30 days\n",
              "26024      2017-11-04 2017-12-04  ...    True   30 days\n",
              "45581      2017-11-17 2017-12-17  ...    True   30 days\n",
              "49083      2017-11-24 2017-12-24  ...    True   30 days\n",
              "57132      2017-12-03 2018-01-02  ...    True   30 days\n",
              "...               ...        ...  ...     ...       ...\n",
              "454045     2018-11-27 2018-12-27  ...    True   30 days\n",
              "462340     2018-12-06 2019-01-05  ...    True   30 days\n",
              "462623     2018-12-07 2019-01-06  ...    True   30 days\n",
              "472309     2018-12-18 2019-01-17  ...    True   30 days\n",
              "489302     2019-01-07 2019-02-06  ...    True   30 days\n",
              "\n",
              "[75 rows x 9 columns]"
            ]
          },
          "metadata": {
            "tags": []
          },
          "execution_count": 156
        }
      ]
    },
    {
      "cell_type": "markdown",
      "metadata": {
        "id": "yI1L1kyiXVuC",
        "colab_type": "text"
      },
      "source": [
        "### 청원 기간이 7일이고 답변 대상 건"
      ]
    },
    {
      "cell_type": "markdown",
      "metadata": {
        "id": "aoFif-f9YgXq",
        "colab_type": "text"
      },
      "source": [
        "* 청원 기간이 7일인데 답변 대상인 건은 없다.\n",
        "* 청원 기간이 7일인 데이터 시작 날짜를 그룹화해보면 청원 초기(2017년 8월 19일 ~ 9월 14일)에는 답변 대기 기간이 7일 이었던 것으로 추청된다."
      ]
    },
    {
      "cell_type": "code",
      "metadata": {
        "id": "iJeLyn18XO5M",
        "colab_type": "code",
        "colab": {
          "base_uri": "https://localhost:8080/",
          "height": 882
        },
        "outputId": "f661f6e7-8f6f-4f07-d2d4-fca42bab1ec4"
      },
      "source": [
        "petitions_7_answer = petitions.loc[(petitions['duration']== '7 days') & (petitions['answer'] == 1)]\n",
        "print(petitions_7_answer.shape)\n",
        "petitions_7 = petitions.loc[(petitions['duration']=='7 days')]\n",
        "print(petitions_7.shape)\n",
        "petitions_7_count = petitions_7['start'].value_counts().reset_index()\n",
        "petitions_7_count.columns = ['start', 'count']\n",
        "petitions_7_count.sort_values('start', ascending=True)"
      ],
      "execution_count": 157,
      "outputs": [
        {
          "output_type": "stream",
          "text": [
            "(0, 9)\n",
            "(2436, 9)\n"
          ],
          "name": "stdout"
        },
        {
          "output_type": "execute_result",
          "data": {
            "text/html": [
              "<div>\n",
              "<style scoped>\n",
              "    .dataframe tbody tr th:only-of-type {\n",
              "        vertical-align: middle;\n",
              "    }\n",
              "\n",
              "    .dataframe tbody tr th {\n",
              "        vertical-align: top;\n",
              "    }\n",
              "\n",
              "    .dataframe thead th {\n",
              "        text-align: right;\n",
              "    }\n",
              "</style>\n",
              "<table border=\"1\" class=\"dataframe\">\n",
              "  <thead>\n",
              "    <tr style=\"text-align: right;\">\n",
              "      <th></th>\n",
              "      <th>start</th>\n",
              "      <th>count</th>\n",
              "    </tr>\n",
              "  </thead>\n",
              "  <tbody>\n",
              "    <tr>\n",
              "      <th>25</th>\n",
              "      <td>2017-08-19</td>\n",
              "      <td>9</td>\n",
              "    </tr>\n",
              "    <tr>\n",
              "      <th>22</th>\n",
              "      <td>2017-08-20</td>\n",
              "      <td>18</td>\n",
              "    </tr>\n",
              "    <tr>\n",
              "      <th>17</th>\n",
              "      <td>2017-08-21</td>\n",
              "      <td>21</td>\n",
              "    </tr>\n",
              "    <tr>\n",
              "      <th>23</th>\n",
              "      <td>2017-08-22</td>\n",
              "      <td>15</td>\n",
              "    </tr>\n",
              "    <tr>\n",
              "      <th>16</th>\n",
              "      <td>2017-08-23</td>\n",
              "      <td>22</td>\n",
              "    </tr>\n",
              "    <tr>\n",
              "      <th>21</th>\n",
              "      <td>2017-08-24</td>\n",
              "      <td>18</td>\n",
              "    </tr>\n",
              "    <tr>\n",
              "      <th>19</th>\n",
              "      <td>2017-08-25</td>\n",
              "      <td>20</td>\n",
              "    </tr>\n",
              "    <tr>\n",
              "      <th>20</th>\n",
              "      <td>2017-08-26</td>\n",
              "      <td>19</td>\n",
              "    </tr>\n",
              "    <tr>\n",
              "      <th>24</th>\n",
              "      <td>2017-08-27</td>\n",
              "      <td>11</td>\n",
              "    </tr>\n",
              "    <tr>\n",
              "      <th>15</th>\n",
              "      <td>2017-08-28</td>\n",
              "      <td>24</td>\n",
              "    </tr>\n",
              "    <tr>\n",
              "      <th>14</th>\n",
              "      <td>2017-08-29</td>\n",
              "      <td>27</td>\n",
              "    </tr>\n",
              "    <tr>\n",
              "      <th>9</th>\n",
              "      <td>2017-08-30</td>\n",
              "      <td>40</td>\n",
              "    </tr>\n",
              "    <tr>\n",
              "      <th>12</th>\n",
              "      <td>2017-08-31</td>\n",
              "      <td>37</td>\n",
              "    </tr>\n",
              "    <tr>\n",
              "      <th>6</th>\n",
              "      <td>2017-09-01</td>\n",
              "      <td>52</td>\n",
              "    </tr>\n",
              "    <tr>\n",
              "      <th>10</th>\n",
              "      <td>2017-09-02</td>\n",
              "      <td>39</td>\n",
              "    </tr>\n",
              "    <tr>\n",
              "      <th>5</th>\n",
              "      <td>2017-09-03</td>\n",
              "      <td>53</td>\n",
              "    </tr>\n",
              "    <tr>\n",
              "      <th>2</th>\n",
              "      <td>2017-09-04</td>\n",
              "      <td>331</td>\n",
              "    </tr>\n",
              "    <tr>\n",
              "      <th>0</th>\n",
              "      <td>2017-09-05</td>\n",
              "      <td>942</td>\n",
              "    </tr>\n",
              "    <tr>\n",
              "      <th>1</th>\n",
              "      <td>2017-09-06</td>\n",
              "      <td>335</td>\n",
              "    </tr>\n",
              "    <tr>\n",
              "      <th>3</th>\n",
              "      <td>2017-09-07</td>\n",
              "      <td>129</td>\n",
              "    </tr>\n",
              "    <tr>\n",
              "      <th>4</th>\n",
              "      <td>2017-09-08</td>\n",
              "      <td>94</td>\n",
              "    </tr>\n",
              "    <tr>\n",
              "      <th>7</th>\n",
              "      <td>2017-09-09</td>\n",
              "      <td>43</td>\n",
              "    </tr>\n",
              "    <tr>\n",
              "      <th>13</th>\n",
              "      <td>2017-09-10</td>\n",
              "      <td>32</td>\n",
              "    </tr>\n",
              "    <tr>\n",
              "      <th>18</th>\n",
              "      <td>2017-09-11</td>\n",
              "      <td>20</td>\n",
              "    </tr>\n",
              "    <tr>\n",
              "      <th>8</th>\n",
              "      <td>2017-09-12</td>\n",
              "      <td>41</td>\n",
              "    </tr>\n",
              "    <tr>\n",
              "      <th>11</th>\n",
              "      <td>2017-09-13</td>\n",
              "      <td>37</td>\n",
              "    </tr>\n",
              "    <tr>\n",
              "      <th>26</th>\n",
              "      <td>2017-09-14</td>\n",
              "      <td>7</td>\n",
              "    </tr>\n",
              "  </tbody>\n",
              "</table>\n",
              "</div>"
            ],
            "text/plain": [
              "        start  count\n",
              "25 2017-08-19      9\n",
              "22 2017-08-20     18\n",
              "17 2017-08-21     21\n",
              "23 2017-08-22     15\n",
              "16 2017-08-23     22\n",
              "21 2017-08-24     18\n",
              "19 2017-08-25     20\n",
              "20 2017-08-26     19\n",
              "24 2017-08-27     11\n",
              "15 2017-08-28     24\n",
              "14 2017-08-29     27\n",
              "9  2017-08-30     40\n",
              "12 2017-08-31     37\n",
              "6  2017-09-01     52\n",
              "10 2017-09-02     39\n",
              "5  2017-09-03     53\n",
              "2  2017-09-04    331\n",
              "0  2017-09-05    942\n",
              "1  2017-09-06    335\n",
              "3  2017-09-07    129\n",
              "4  2017-09-08     94\n",
              "7  2017-09-09     43\n",
              "13 2017-09-10     32\n",
              "18 2017-09-11     20\n",
              "8  2017-09-12     41\n",
              "11 2017-09-13     37\n",
              "26 2017-09-14      7"
            ]
          },
          "metadata": {
            "tags": []
          },
          "execution_count": 157
        }
      ]
    },
    {
      "cell_type": "markdown",
      "metadata": {
        "id": "TLeebjFUZIoH",
        "colab_type": "text"
      },
      "source": [
        "## 어느 분야의 청원이 가장 많이 들어왔는지\n",
        "* pandas의 value_counts로 특정 컬럼의 데이터를 그룹화하여 카운트된 숫자를 볼 수 있다.\n",
        "* 이 데이터로는 정티개혁과 관련된 국민청원이 가장 많다는 것을 알 수 있다."
      ]
    },
    {
      "cell_type": "code",
      "metadata": {
        "id": "TALhEvq7ZHfL",
        "colab_type": "code",
        "colab": {
          "base_uri": "https://localhost:8080/",
          "height": 550
        },
        "outputId": "6f85ea22-d486-4096-c48a-17e08abe243a"
      },
      "source": [
        "category = pd.DataFrame(petitions['category'].value_counts()).reset_index()\n",
        "category.columns = ['category', 'counts']\n",
        "category"
      ],
      "execution_count": 158,
      "outputs": [
        {
          "output_type": "execute_result",
          "data": {
            "text/html": [
              "<div>\n",
              "<style scoped>\n",
              "    .dataframe tbody tr th:only-of-type {\n",
              "        vertical-align: middle;\n",
              "    }\n",
              "\n",
              "    .dataframe tbody tr th {\n",
              "        vertical-align: top;\n",
              "    }\n",
              "\n",
              "    .dataframe thead th {\n",
              "        text-align: right;\n",
              "    }\n",
              "</style>\n",
              "<table border=\"1\" class=\"dataframe\">\n",
              "  <thead>\n",
              "    <tr style=\"text-align: right;\">\n",
              "      <th></th>\n",
              "      <th>category</th>\n",
              "      <th>counts</th>\n",
              "    </tr>\n",
              "  </thead>\n",
              "  <tbody>\n",
              "    <tr>\n",
              "      <th>0</th>\n",
              "      <td>정치개혁</td>\n",
              "      <td>59020</td>\n",
              "    </tr>\n",
              "    <tr>\n",
              "      <th>1</th>\n",
              "      <td>기타</td>\n",
              "      <td>46449</td>\n",
              "    </tr>\n",
              "    <tr>\n",
              "      <th>2</th>\n",
              "      <td>인권/성평등</td>\n",
              "      <td>33738</td>\n",
              "    </tr>\n",
              "    <tr>\n",
              "      <th>3</th>\n",
              "      <td>안전/환경</td>\n",
              "      <td>29196</td>\n",
              "    </tr>\n",
              "    <tr>\n",
              "      <th>4</th>\n",
              "      <td>교통/건축/국토</td>\n",
              "      <td>26910</td>\n",
              "    </tr>\n",
              "    <tr>\n",
              "      <th>5</th>\n",
              "      <td>외교/통일/국방</td>\n",
              "      <td>25705</td>\n",
              "    </tr>\n",
              "    <tr>\n",
              "      <th>6</th>\n",
              "      <td>육아/교육</td>\n",
              "      <td>24861</td>\n",
              "    </tr>\n",
              "    <tr>\n",
              "      <th>7</th>\n",
              "      <td>보건복지</td>\n",
              "      <td>23608</td>\n",
              "    </tr>\n",
              "    <tr>\n",
              "      <th>8</th>\n",
              "      <td>일자리</td>\n",
              "      <td>22111</td>\n",
              "    </tr>\n",
              "    <tr>\n",
              "      <th>9</th>\n",
              "      <td>행정</td>\n",
              "      <td>19373</td>\n",
              "    </tr>\n",
              "    <tr>\n",
              "      <th>10</th>\n",
              "      <td>문화/예술/체육/언론</td>\n",
              "      <td>17257</td>\n",
              "    </tr>\n",
              "    <tr>\n",
              "      <th>11</th>\n",
              "      <td>미래</td>\n",
              "      <td>17190</td>\n",
              "    </tr>\n",
              "    <tr>\n",
              "      <th>12</th>\n",
              "      <td>경제민주화</td>\n",
              "      <td>16281</td>\n",
              "    </tr>\n",
              "    <tr>\n",
              "      <th>13</th>\n",
              "      <td>성장동력</td>\n",
              "      <td>6991</td>\n",
              "    </tr>\n",
              "    <tr>\n",
              "      <th>14</th>\n",
              "      <td>반려동물</td>\n",
              "      <td>3827</td>\n",
              "    </tr>\n",
              "    <tr>\n",
              "      <th>15</th>\n",
              "      <td>저출산/고령화대책</td>\n",
              "      <td>3461</td>\n",
              "    </tr>\n",
              "    <tr>\n",
              "      <th>16</th>\n",
              "      <td>농산어촌</td>\n",
              "      <td>1778</td>\n",
              "    </tr>\n",
              "  </tbody>\n",
              "</table>\n",
              "</div>"
            ],
            "text/plain": [
              "       category  counts\n",
              "0          정치개혁   59020\n",
              "1            기타   46449\n",
              "2        인권/성평등   33738\n",
              "3         안전/환경   29196\n",
              "4      교통/건축/국토   26910\n",
              "5      외교/통일/국방   25705\n",
              "6         육아/교육   24861\n",
              "7          보건복지   23608\n",
              "8           일자리   22111\n",
              "9            행정   19373\n",
              "10  문화/예술/체육/언론   17257\n",
              "11           미래   17190\n",
              "12        경제민주화   16281\n",
              "13         성장동력    6991\n",
              "14         반려동물    3827\n",
              "15    저출산/고령화대책    3461\n",
              "16         농산어촌    1778"
            ]
          },
          "metadata": {
            "tags": []
          },
          "execution_count": 158
        }
      ]
    },
    {
      "cell_type": "markdown",
      "metadata": {
        "id": "7OagEa8DZ2_6",
        "colab_type": "text"
      },
      "source": [
        "## 청원이 얼마 동아 집계되었는지\n",
        "청원이 가장 많이 들어온 날은 언제인지 정렬해본다."
      ]
    },
    {
      "cell_type": "code",
      "metadata": {
        "id": "SRrmXgiBaKMP",
        "colab_type": "code",
        "colab": {
          "base_uri": "https://localhost:8080/",
          "height": 213
        },
        "outputId": "6b48103c-6de5-4be6-bbc5-a1d092e7084a"
      },
      "source": [
        "start_df = pd.DataFrame(petitions['start'].value_counts()).reset_index()\n",
        "start_df.columns = ['start', 'counts']\n",
        "start_df = start_df.sort_values('counts', ascending=False)\n",
        "# 내림차순\n",
        "print('청원 집계: {}일'.format(start_df.shape[0]))\n",
        "start_df.head()"
      ],
      "execution_count": 159,
      "outputs": [
        {
          "output_type": "stream",
          "text": [
            "청원 집계: 509일\n"
          ],
          "name": "stdout"
        },
        {
          "output_type": "execute_result",
          "data": {
            "text/html": [
              "<div>\n",
              "<style scoped>\n",
              "    .dataframe tbody tr th:only-of-type {\n",
              "        vertical-align: middle;\n",
              "    }\n",
              "\n",
              "    .dataframe tbody tr th {\n",
              "        vertical-align: top;\n",
              "    }\n",
              "\n",
              "    .dataframe thead th {\n",
              "        text-align: right;\n",
              "    }\n",
              "</style>\n",
              "<table border=\"1\" class=\"dataframe\">\n",
              "  <thead>\n",
              "    <tr style=\"text-align: right;\">\n",
              "      <th></th>\n",
              "      <th>start</th>\n",
              "      <th>counts</th>\n",
              "    </tr>\n",
              "  </thead>\n",
              "  <tbody>\n",
              "    <tr>\n",
              "      <th>0</th>\n",
              "      <td>2017-11-11</td>\n",
              "      <td>9623</td>\n",
              "    </tr>\n",
              "    <tr>\n",
              "      <th>1</th>\n",
              "      <td>2017-09-05</td>\n",
              "      <td>5952</td>\n",
              "    </tr>\n",
              "    <tr>\n",
              "      <th>2</th>\n",
              "      <td>2018-01-11</td>\n",
              "      <td>3368</td>\n",
              "    </tr>\n",
              "    <tr>\n",
              "      <th>3</th>\n",
              "      <td>2018-02-06</td>\n",
              "      <td>2631</td>\n",
              "    </tr>\n",
              "    <tr>\n",
              "      <th>4</th>\n",
              "      <td>2017-11-09</td>\n",
              "      <td>2487</td>\n",
              "    </tr>\n",
              "  </tbody>\n",
              "</table>\n",
              "</div>"
            ],
            "text/plain": [
              "       start  counts\n",
              "0 2017-11-11    9623\n",
              "1 2017-09-05    5952\n",
              "2 2018-01-11    3368\n",
              "3 2018-02-06    2631\n",
              "4 2017-11-09    2487"
            ]
          },
          "metadata": {
            "tags": []
          },
          "execution_count": 159
        }
      ]
    },
    {
      "cell_type": "markdown",
      "metadata": {
        "id": "Jv_MRwjAbIa5",
        "colab_type": "text"
      },
      "source": [
        "## 피봇 테이블로 투표를 가장 많이 받은 분야 보기"
      ]
    },
    {
      "cell_type": "code",
      "metadata": {
        "id": "DT_sGyPFbHOI",
        "colab_type": "code",
        "colab": {
          "base_uri": "https://localhost:8080/",
          "height": 550
        },
        "outputId": "89c8be38-3362-4804-d07b-d8a6ab62a7b5"
      },
      "source": [
        "petitions_unque = pd.pivot_table(petitions, index=['category'], aggfunc=np.sum)\n",
        "petitions_best = petitions_unque.sort_values(by='votes', ascending=False).reset_index()\n",
        "petitions_best"
      ],
      "execution_count": 160,
      "outputs": [
        {
          "output_type": "execute_result",
          "data": {
            "text/html": [
              "<div>\n",
              "<style scoped>\n",
              "    .dataframe tbody tr th:only-of-type {\n",
              "        vertical-align: middle;\n",
              "    }\n",
              "\n",
              "    .dataframe tbody tr th {\n",
              "        vertical-align: top;\n",
              "    }\n",
              "\n",
              "    .dataframe thead th {\n",
              "        text-align: right;\n",
              "    }\n",
              "</style>\n",
              "<table border=\"1\" class=\"dataframe\">\n",
              "  <thead>\n",
              "    <tr style=\"text-align: right;\">\n",
              "      <th></th>\n",
              "      <th>category</th>\n",
              "      <th>answer</th>\n",
              "      <th>answered</th>\n",
              "      <th>votes</th>\n",
              "    </tr>\n",
              "  </thead>\n",
              "  <tbody>\n",
              "    <tr>\n",
              "      <th>0</th>\n",
              "      <td>인권/성평등</td>\n",
              "      <td>23.0</td>\n",
              "      <td>9</td>\n",
              "      <td>12225998</td>\n",
              "    </tr>\n",
              "    <tr>\n",
              "      <th>1</th>\n",
              "      <td>안전/환경</td>\n",
              "      <td>10.0</td>\n",
              "      <td>2</td>\n",
              "      <td>6512799</td>\n",
              "    </tr>\n",
              "    <tr>\n",
              "      <th>2</th>\n",
              "      <td>정치개혁</td>\n",
              "      <td>7.0</td>\n",
              "      <td>2</td>\n",
              "      <td>5686172</td>\n",
              "    </tr>\n",
              "    <tr>\n",
              "      <th>3</th>\n",
              "      <td>기타</td>\n",
              "      <td>7.0</td>\n",
              "      <td>1</td>\n",
              "      <td>4720310</td>\n",
              "    </tr>\n",
              "    <tr>\n",
              "      <th>4</th>\n",
              "      <td>육아/교육</td>\n",
              "      <td>3.0</td>\n",
              "      <td>1</td>\n",
              "      <td>4420589</td>\n",
              "    </tr>\n",
              "    <tr>\n",
              "      <th>5</th>\n",
              "      <td>보건복지</td>\n",
              "      <td>3.0</td>\n",
              "      <td>2</td>\n",
              "      <td>4269399</td>\n",
              "    </tr>\n",
              "    <tr>\n",
              "      <th>6</th>\n",
              "      <td>문화/예술/체육/언론</td>\n",
              "      <td>7.0</td>\n",
              "      <td>4</td>\n",
              "      <td>4086382</td>\n",
              "    </tr>\n",
              "    <tr>\n",
              "      <th>7</th>\n",
              "      <td>외교/통일/국방</td>\n",
              "      <td>4.0</td>\n",
              "      <td>1</td>\n",
              "      <td>3637926</td>\n",
              "    </tr>\n",
              "    <tr>\n",
              "      <th>8</th>\n",
              "      <td>교통/건축/국토</td>\n",
              "      <td>3.0</td>\n",
              "      <td>2</td>\n",
              "      <td>2834727</td>\n",
              "    </tr>\n",
              "    <tr>\n",
              "      <th>9</th>\n",
              "      <td>반려동물</td>\n",
              "      <td>4.0</td>\n",
              "      <td>0</td>\n",
              "      <td>2023905</td>\n",
              "    </tr>\n",
              "    <tr>\n",
              "      <th>10</th>\n",
              "      <td>경제민주화</td>\n",
              "      <td>2.0</td>\n",
              "      <td>1</td>\n",
              "      <td>1720766</td>\n",
              "    </tr>\n",
              "    <tr>\n",
              "      <th>11</th>\n",
              "      <td>행정</td>\n",
              "      <td>1.0</td>\n",
              "      <td>1</td>\n",
              "      <td>1665855</td>\n",
              "    </tr>\n",
              "    <tr>\n",
              "      <th>12</th>\n",
              "      <td>미래</td>\n",
              "      <td>1.0</td>\n",
              "      <td>1</td>\n",
              "      <td>1120174</td>\n",
              "    </tr>\n",
              "    <tr>\n",
              "      <th>13</th>\n",
              "      <td>일자리</td>\n",
              "      <td>0.0</td>\n",
              "      <td>0</td>\n",
              "      <td>1113973</td>\n",
              "    </tr>\n",
              "    <tr>\n",
              "      <th>14</th>\n",
              "      <td>성장동력</td>\n",
              "      <td>2.0</td>\n",
              "      <td>2</td>\n",
              "      <td>866240</td>\n",
              "    </tr>\n",
              "    <tr>\n",
              "      <th>15</th>\n",
              "      <td>저출산/고령화대책</td>\n",
              "      <td>0.0</td>\n",
              "      <td>0</td>\n",
              "      <td>174841</td>\n",
              "    </tr>\n",
              "    <tr>\n",
              "      <th>16</th>\n",
              "      <td>농산어촌</td>\n",
              "      <td>0.0</td>\n",
              "      <td>0</td>\n",
              "      <td>114822</td>\n",
              "    </tr>\n",
              "  </tbody>\n",
              "</table>\n",
              "</div>"
            ],
            "text/plain": [
              "       category  answer  answered     votes\n",
              "0        인권/성평등    23.0         9  12225998\n",
              "1         안전/환경    10.0         2   6512799\n",
              "2          정치개혁     7.0         2   5686172\n",
              "3            기타     7.0         1   4720310\n",
              "4         육아/교육     3.0         1   4420589\n",
              "5          보건복지     3.0         2   4269399\n",
              "6   문화/예술/체육/언론     7.0         4   4086382\n",
              "7      외교/통일/국방     4.0         1   3637926\n",
              "8      교통/건축/국토     3.0         2   2834727\n",
              "9          반려동물     4.0         0   2023905\n",
              "10        경제민주화     2.0         1   1720766\n",
              "11           행정     1.0         1   1665855\n",
              "12           미래     1.0         1   1120174\n",
              "13          일자리     0.0         0   1113973\n",
              "14         성장동력     2.0         2    866240\n",
              "15    저출산/고령화대책     0.0         0    174841\n",
              "16         농산어촌     0.0         0    114822"
            ]
          },
          "metadata": {
            "tags": []
          },
          "execution_count": 160
        }
      ]
    },
    {
      "cell_type": "markdown",
      "metadata": {
        "id": "l13iPJ3eWABG",
        "colab_type": "text"
      },
      "source": [
        "## 투표를 가장 많이 받은 날"
      ]
    },
    {
      "cell_type": "code",
      "metadata": {
        "id": "uHiAhRmoWDPJ",
        "colab_type": "code",
        "colab": {
          "base_uri": "https://localhost:8080/",
          "height": 1000
        },
        "outputId": "7d499dcc-9ab8-4f47-e48f-dfcbde6a9057"
      },
      "source": [
        "petitions_start = pd.pivot_table(petitions, index=['start'], aggfunc=np.sum)\n",
        "votes_df = petitions_start.sort_values(by='votes', ascending=False)\n",
        "votes_df.loc[petitions_start['votes'] > 350000]"
      ],
      "execution_count": 163,
      "outputs": [
        {
          "output_type": "execute_result",
          "data": {
            "text/html": [
              "<div>\n",
              "<style scoped>\n",
              "    .dataframe tbody tr th:only-of-type {\n",
              "        vertical-align: middle;\n",
              "    }\n",
              "\n",
              "    .dataframe tbody tr th {\n",
              "        vertical-align: top;\n",
              "    }\n",
              "\n",
              "    .dataframe thead th {\n",
              "        text-align: right;\n",
              "    }\n",
              "</style>\n",
              "<table border=\"1\" class=\"dataframe\">\n",
              "  <thead>\n",
              "    <tr style=\"text-align: right;\">\n",
              "      <th></th>\n",
              "      <th>answer</th>\n",
              "      <th>answered</th>\n",
              "      <th>votes</th>\n",
              "    </tr>\n",
              "    <tr>\n",
              "      <th>start</th>\n",
              "      <th></th>\n",
              "      <th></th>\n",
              "      <th></th>\n",
              "    </tr>\n",
              "  </thead>\n",
              "  <tbody>\n",
              "    <tr>\n",
              "      <th>2018-10-17</th>\n",
              "      <td>1.0</td>\n",
              "      <td>0</td>\n",
              "      <td>1300523</td>\n",
              "    </tr>\n",
              "    <tr>\n",
              "      <th>2018-10-31</th>\n",
              "      <td>2.0</td>\n",
              "      <td>0</td>\n",
              "      <td>827096</td>\n",
              "    </tr>\n",
              "    <tr>\n",
              "      <th>2018-06-13</th>\n",
              "      <td>1.0</td>\n",
              "      <td>0</td>\n",
              "      <td>786157</td>\n",
              "    </tr>\n",
              "    <tr>\n",
              "      <th>2018-10-18</th>\n",
              "      <td>2.0</td>\n",
              "      <td>0</td>\n",
              "      <td>721524</td>\n",
              "    </tr>\n",
              "    <tr>\n",
              "      <th>2018-02-19</th>\n",
              "      <td>1.0</td>\n",
              "      <td>1</td>\n",
              "      <td>701520</td>\n",
              "    </tr>\n",
              "    <tr>\n",
              "      <th>2018-11-09</th>\n",
              "      <td>2.0</td>\n",
              "      <td>0</td>\n",
              "      <td>672819</td>\n",
              "    </tr>\n",
              "    <tr>\n",
              "      <th>2018-07-22</th>\n",
              "      <td>1.0</td>\n",
              "      <td>0</td>\n",
              "      <td>672491</td>\n",
              "    </tr>\n",
              "    <tr>\n",
              "      <th>2017-09-06</th>\n",
              "      <td>1.0</td>\n",
              "      <td>1</td>\n",
              "      <td>648209</td>\n",
              "    </tr>\n",
              "    <tr>\n",
              "      <th>2018-06-24</th>\n",
              "      <td>2.0</td>\n",
              "      <td>0</td>\n",
              "      <td>628925</td>\n",
              "    </tr>\n",
              "    <tr>\n",
              "      <th>2018-10-04</th>\n",
              "      <td>2.0</td>\n",
              "      <td>1</td>\n",
              "      <td>626761</td>\n",
              "    </tr>\n",
              "    <tr>\n",
              "      <th>2018-02-23</th>\n",
              "      <td>2.0</td>\n",
              "      <td>2</td>\n",
              "      <td>608530</td>\n",
              "    </tr>\n",
              "    <tr>\n",
              "      <th>2018-05-18</th>\n",
              "      <td>1.0</td>\n",
              "      <td>0</td>\n",
              "      <td>574483</td>\n",
              "    </tr>\n",
              "    <tr>\n",
              "      <th>2018-05-11</th>\n",
              "      <td>1.0</td>\n",
              "      <td>1</td>\n",
              "      <td>556549</td>\n",
              "    </tr>\n",
              "    <tr>\n",
              "      <th>2018-05-25</th>\n",
              "      <td>2.0</td>\n",
              "      <td>0</td>\n",
              "      <td>514253</td>\n",
              "    </tr>\n",
              "    <tr>\n",
              "      <th>2018-11-14</th>\n",
              "      <td>1.0</td>\n",
              "      <td>0</td>\n",
              "      <td>469027</td>\n",
              "    </tr>\n",
              "    <tr>\n",
              "      <th>2018-06-17</th>\n",
              "      <td>2.0</td>\n",
              "      <td>0</td>\n",
              "      <td>468341</td>\n",
              "    </tr>\n",
              "    <tr>\n",
              "      <th>2018-07-03</th>\n",
              "      <td>1.0</td>\n",
              "      <td>0</td>\n",
              "      <td>467132</td>\n",
              "    </tr>\n",
              "    <tr>\n",
              "      <th>2018-04-17</th>\n",
              "      <td>1.0</td>\n",
              "      <td>1</td>\n",
              "      <td>446950</td>\n",
              "    </tr>\n",
              "    <tr>\n",
              "      <th>2018-05-02</th>\n",
              "      <td>1.0</td>\n",
              "      <td>0</td>\n",
              "      <td>445493</td>\n",
              "    </tr>\n",
              "    <tr>\n",
              "      <th>2018-10-02</th>\n",
              "      <td>1.0</td>\n",
              "      <td>1</td>\n",
              "      <td>437841</td>\n",
              "    </tr>\n",
              "    <tr>\n",
              "      <th>2017-09-03</th>\n",
              "      <td>1.0</td>\n",
              "      <td>1</td>\n",
              "      <td>433356</td>\n",
              "    </tr>\n",
              "    <tr>\n",
              "      <th>2018-06-14</th>\n",
              "      <td>1.0</td>\n",
              "      <td>1</td>\n",
              "      <td>403351</td>\n",
              "    </tr>\n",
              "    <tr>\n",
              "      <th>2018-01-20</th>\n",
              "      <td>1.0</td>\n",
              "      <td>1</td>\n",
              "      <td>399683</td>\n",
              "    </tr>\n",
              "    <tr>\n",
              "      <th>2017-11-17</th>\n",
              "      <td>1.0</td>\n",
              "      <td>1</td>\n",
              "      <td>393348</td>\n",
              "    </tr>\n",
              "    <tr>\n",
              "      <th>2017-11-24</th>\n",
              "      <td>1.0</td>\n",
              "      <td>1</td>\n",
              "      <td>392782</td>\n",
              "    </tr>\n",
              "    <tr>\n",
              "      <th>2018-12-07</th>\n",
              "      <td>1.0</td>\n",
              "      <td>0</td>\n",
              "      <td>387305</td>\n",
              "    </tr>\n",
              "    <tr>\n",
              "      <th>2018-03-24</th>\n",
              "      <td>1.0</td>\n",
              "      <td>0</td>\n",
              "      <td>385480</td>\n",
              "    </tr>\n",
              "    <tr>\n",
              "      <th>2018-09-06</th>\n",
              "      <td>1.0</td>\n",
              "      <td>0</td>\n",
              "      <td>383145</td>\n",
              "    </tr>\n",
              "    <tr>\n",
              "      <th>2018-03-03</th>\n",
              "      <td>1.0</td>\n",
              "      <td>1</td>\n",
              "      <td>380016</td>\n",
              "    </tr>\n",
              "    <tr>\n",
              "      <th>2018-01-15</th>\n",
              "      <td>1.0</td>\n",
              "      <td>1</td>\n",
              "      <td>376187</td>\n",
              "    </tr>\n",
              "    <tr>\n",
              "      <th>2018-04-16</th>\n",
              "      <td>1.0</td>\n",
              "      <td>0</td>\n",
              "      <td>369318</td>\n",
              "    </tr>\n",
              "    <tr>\n",
              "      <th>2018-01-25</th>\n",
              "      <td>1.0</td>\n",
              "      <td>1</td>\n",
              "      <td>364926</td>\n",
              "    </tr>\n",
              "    <tr>\n",
              "      <th>2019-01-07</th>\n",
              "      <td>1.0</td>\n",
              "      <td>0</td>\n",
              "      <td>352139</td>\n",
              "    </tr>\n",
              "  </tbody>\n",
              "</table>\n",
              "</div>"
            ],
            "text/plain": [
              "            answer  answered    votes\n",
              "start                                \n",
              "2018-10-17     1.0         0  1300523\n",
              "2018-10-31     2.0         0   827096\n",
              "2018-06-13     1.0         0   786157\n",
              "2018-10-18     2.0         0   721524\n",
              "2018-02-19     1.0         1   701520\n",
              "2018-11-09     2.0         0   672819\n",
              "2018-07-22     1.0         0   672491\n",
              "2017-09-06     1.0         1   648209\n",
              "2018-06-24     2.0         0   628925\n",
              "2018-10-04     2.0         1   626761\n",
              "2018-02-23     2.0         2   608530\n",
              "2018-05-18     1.0         0   574483\n",
              "2018-05-11     1.0         1   556549\n",
              "2018-05-25     2.0         0   514253\n",
              "2018-11-14     1.0         0   469027\n",
              "2018-06-17     2.0         0   468341\n",
              "2018-07-03     1.0         0   467132\n",
              "2018-04-17     1.0         1   446950\n",
              "2018-05-02     1.0         0   445493\n",
              "2018-10-02     1.0         1   437841\n",
              "2017-09-03     1.0         1   433356\n",
              "2018-06-14     1.0         1   403351\n",
              "2018-01-20     1.0         1   399683\n",
              "2017-11-17     1.0         1   393348\n",
              "2017-11-24     1.0         1   392782\n",
              "2018-12-07     1.0         0   387305\n",
              "2018-03-24     1.0         0   385480\n",
              "2018-09-06     1.0         0   383145\n",
              "2018-03-03     1.0         1   380016\n",
              "2018-01-15     1.0         1   376187\n",
              "2018-04-16     1.0         0   369318\n",
              "2018-01-25     1.0         1   364926\n",
              "2019-01-07     1.0         0   352139"
            ]
          },
          "metadata": {
            "tags": []
          },
          "execution_count": 163
        }
      ]
    },
    {
      "cell_type": "markdown",
      "metadata": {
        "id": "H3hjUWacW3ex",
        "colab_type": "text"
      },
      "source": [
        "## 청원을 많이 받은 날 VS 투표를 많이 받은 날"
      ]
    },
    {
      "cell_type": "code",
      "metadata": {
        "id": "WvlSOJuSXAgJ",
        "colab_type": "code",
        "colab": {}
      },
      "source": [
        "# 인덱스로 되어 있는 start를 키로 사용하기 위해\n",
        "# index로 설정된 start를 컬럼으로 변경해주고 인덱스를 생성한다.\n",
        "votes_df = votes_df.reset_index()"
      ],
      "execution_count": 0,
      "outputs": []
    }
  ]
}