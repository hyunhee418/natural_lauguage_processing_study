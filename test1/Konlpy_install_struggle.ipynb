{
 "cells": [
  {
   "cell_type": "markdown",
   "metadata": {},
   "source": [
    "# OSX에서 konlpy 설치"
   ]
  },
  {
   "cell_type": "code",
   "execution_count": 1,
   "metadata": {},
   "outputs": [],
   "source": [
    "from konlpy.tag import Okt\n",
    "\n",
    "okt = Okt()"
   ]
  },
  {
   "cell_type": "code",
   "execution_count": 2,
   "metadata": {},
   "outputs": [
    {
     "data": {
      "text/plain": [
       "['안녕하세요', '.', '손', '현희', '입니다', '.']"
      ]
     },
     "execution_count": 2,
     "metadata": {},
     "output_type": "execute_result"
    }
   ],
   "source": [
    "okt.morphs('안녕하세요. 손현희 입니다.')"
   ]
  },
  {
   "cell_type": "code",
   "execution_count": 3,
   "metadata": {},
   "outputs": [
    {
     "data": {
      "text/plain": [
       "['[',\n",
       " '비즈',\n",
       " '한국',\n",
       " ']',\n",
       " '“',\n",
       " '요즘',\n",
       " '스타트업',\n",
       " '평가',\n",
       " '가',\n",
       " '너무',\n",
       " '높아져서',\n",
       " '부담',\n",
       " '됩니다',\n",
       " '.',\n",
       " '투자',\n",
       " '할',\n",
       " '만',\n",
       " '한',\n",
       " '회사',\n",
       " '가',\n",
       " '없어요',\n",
       " '.',\n",
       " '”',\n",
       " '최근',\n",
       " '만난',\n",
       " '국내',\n",
       " '대형',\n",
       " '벤처캐피털',\n",
       " '(',\n",
       " 'VC',\n",
       " ')',\n",
       " '대표',\n",
       " '는',\n",
       " '스타트업',\n",
       " '에',\n",
       " '거품',\n",
       " '이',\n",
       " '끼었다며',\n",
       " '주의',\n",
       " '를',\n",
       " '당부',\n",
       " '했다',\n",
       " '.',\n",
       " '벤',\n",
       " '처',\n",
       " '업계',\n",
       " '로',\n",
       " '돈',\n",
       " '이',\n",
       " '몰리',\n",
       " '며',\n",
       " '실제',\n",
       " '가치',\n",
       " '이상',\n",
       " '으로',\n",
       " '과대',\n",
       " '평가',\n",
       " '되고',\n",
       " '있다는',\n",
       " '것',\n",
       " '이다',\n",
       " '.']"
      ]
     },
     "execution_count": 3,
     "metadata": {},
     "output_type": "execute_result"
    }
   ],
   "source": [
    "text = '''[비즈한국] “요즘 스타트업 평가가 너무 높아져서 부담됩니다. 투자할 만한 회사가 없어요.” 최근 만난 국내 대형 벤처캐피털(VC) 대표는 스타트업에 거품이 끼었다며 주의를 당부했다. 벤처업계로 돈이 몰리며 실제 가치 이상으로 과대평가되고 있다는 것이다. '''\n",
    "okt.morphs(text)"
   ]
  }
 ],
 "metadata": {
  "kernelspec": {
   "display_name": "Python 3",
   "language": "python",
   "name": "python3"
  },
  "language_info": {
   "codemirror_mode": {
    "name": "ipython",
    "version": 3
   },
   "file_extension": ".py",
   "mimetype": "text/x-python",
   "name": "python",
   "nbconvert_exporter": "python",
   "pygments_lexer": "ipython3",
   "version": "3.7.4"
  }
 },
 "nbformat": 4,
 "nbformat_minor": 2
}
